{
 "cells": [
  {
   "cell_type": "code",
   "execution_count": null,
   "id": "2cf4461c",
   "metadata": {},
   "outputs": [],
   "source": []
  },
  {
   "cell_type": "code",
   "execution_count": 5,
   "id": "d07cd4be",
   "metadata": {
    "deletable": false,
    "editable": false
   },
   "outputs": [],
   "source": [
    "# Initialize Otter\n",
    "import otter\n",
    "grader = otter.Notebook(\"midterm.ipynb\")"
   ]
  },
  {
   "cell_type": "markdown",
   "id": "e6217318",
   "metadata": {},
   "source": [
    "## Midterm\n",
    "### You have 60 minutes to solve 4 questions given below. "
   ]
  },
  {
   "cell_type": "markdown",
   "id": "5a4f2808",
   "metadata": {},
   "source": [
    "### Do not change the code that has been provided to you. You can add code but do not change/remove any components provided by us."
   ]
  },
  {
   "cell_type": "code",
   "execution_count": 6,
   "id": "f95af69b",
   "metadata": {},
   "outputs": [],
   "source": [
    "import numpy as np\n",
    "import pandas as pd"
   ]
  },
  {
   "cell_type": "markdown",
   "id": "edaa8342",
   "metadata": {},
   "source": [
    "**Question 1:** Complete the function `question1` based on the instructions given below. <br>"
   ]
  },
  {
   "cell_type": "markdown",
   "id": "98fc0ff3",
   "metadata": {},
   "source": [
    "### Given a numpy array, return the maximum element from each row in a list\n",
    "\n",
    "x=\n",
    "[[4 8 3]<br>\n",
    "  [2 9 7]<br>\n",
    "  [0 2 7]]<br>\n",
    "\n",
    "question1(x) = [8,9,7]"
   ]
  },
  {
   "cell_type": "code",
   "execution_count": 7,
   "id": "c2738783",
   "metadata": {
    "tags": []
   },
   "outputs": [],
   "source": [
    "def question1(arr):\n",
    "    '''\n",
    "    1 local test case : 5 points\n",
    "    1 hidden test case : 5 points\n",
    "    '''\n",
    "    l=[]\n",
    "    for x in arr:\n",
    "        l.append(max(x))\n",
    "    return l"
   ]
  },
  {
   "cell_type": "code",
   "execution_count": 8,
   "id": "3ad83920",
   "metadata": {
    "deletable": false,
    "editable": false
   },
   "outputs": [
    {
     "data": {
      "text/html": [
       "<p><strong><pre style='display: inline;'>q1</pre></strong> passed!</p>"
      ],
      "text/plain": [
       "q1 results: All test cases passed!"
      ]
     },
     "execution_count": 8,
     "metadata": {},
     "output_type": "execute_result"
    }
   ],
   "source": [
    "grader.check(\"q1\")"
   ]
  },
  {
   "cell_type": "markdown",
   "id": "3c4026a5",
   "metadata": {},
   "source": [
    "**Question 2:** Complete the function `question2` based on the instructions given below. <br>"
   ]
  },
  {
   "cell_type": "markdown",
   "id": "f2ec9996",
   "metadata": {},
   "source": [
    "### Given an integer argument return factorial of the value. Hint: Use recursion.\n",
    "\n",
    "Note: The factorial function says to multiply all whole numbers from our chosen number down to 1.\n",
    "\n",
    "Examples:\n",
    "\n",
    "question4(4) = 4 × 3 × 2 × 1 = 24\n"
   ]
  },
  {
   "cell_type": "code",
   "execution_count": 9,
   "id": "fa5f3927",
   "metadata": {
    "tags": []
   },
   "outputs": [],
   "source": [
    "def question2(num):\n",
    "    '''\n",
    "    1 local test case : 5 points\n",
    "    1 hidden test case : 5 points\n",
    "    '''\n",
    "    ans = 1\n",
    "    ans = fact(num)\n",
    "    return ans\n",
    "\n",
    "def fact(x):\n",
    "    if (x<=1):\n",
    "        return 1\n",
    "    return x*fact(x-1)"
   ]
  },
  {
   "cell_type": "code",
   "execution_count": 10,
   "id": "86e148f6",
   "metadata": {
    "deletable": false,
    "editable": false
   },
   "outputs": [
    {
     "data": {
      "text/html": [
       "<p><strong><pre style='display: inline;'>q2</pre></strong> passed!</p>"
      ],
      "text/plain": [
       "q2 results: All test cases passed!"
      ]
     },
     "execution_count": 10,
     "metadata": {},
     "output_type": "execute_result"
    }
   ],
   "source": [
    "grader.check(\"q2\")"
   ]
  },
  {
   "cell_type": "markdown",
   "id": "d83670db",
   "metadata": {},
   "source": [
    "**Question 3:** Complete the function `question3` based on the instructions given below.<br>"
   ]
  },
  {
   "cell_type": "markdown",
   "id": "d44bd6c8",
   "metadata": {},
   "source": [
    "### Apply the following instructions (in order) to an input two dimensional numpy array with 0s and 1s and return the output\n",
    "\n",
    "\n",
    "**\\<Operations to perform\\>**\n",
    "\n",
    "<ol>\n",
    "    <li> Reverse the odd rows.\n",
    "    <li> Once the odd rows are reversed, replace the first element of every column according to the following logic : If the column contains even number of 1's replace the first element of that column with a 0. If a column has odd number of 1's replace the first element of that column with a 1.<br>\n",
    "        Ex: column = [1, 0, 0, 1]<br>\n",
    "        numberOf1s(column) = 2; even, so we replace the first element of the column with a 0<br>\n",
    "        column = [0, 0, 0, 1]\n",
    "    <li> Replace the 0's in each column by the mean of the array.<br>\n",
    "        Ex. col = [1, 0, 0, 1]<br>\n",
    "        array_mean = 0.5; here the array_mean is the mean of the entire array.<br>\n",
    "        output = [1, 0.5, 0.5, 1]\n",
    "    <li> Multiply all the elements of the array with 255\n",
    "    <li> Return the transpose of the array\n",
    "    \n",
    "</ol>"
   ]
  },
  {
   "cell_type": "code",
   "execution_count": 11,
   "id": "81a0402d",
   "metadata": {},
   "outputs": [
    {
     "data": {
      "text/plain": [
       "array([[1, 0, 0],\n",
       "       [1, 1, 0],\n",
       "       [0, 0, 0],\n",
       "       [1, 0, 1]])"
      ]
     },
     "execution_count": 11,
     "metadata": {},
     "output_type": "execute_result"
    }
   ],
   "source": [
    "arr2 = np.array([[1,0,0], [1,1,0], [0,0,0], [1,0,1]])\n",
    "np.where(arr2==0, 122, arr2)\n",
    "arr2"
   ]
  },
  {
   "cell_type": "code",
   "execution_count": 12,
   "id": "8bda7da5",
   "metadata": {
    "tags": []
   },
   "outputs": [
    {
     "data": {
      "text/plain": [
       "array([[106.25, 106.25, 106.25, 255.  ],\n",
       "       [255.  , 255.  , 106.25, 106.25],\n",
       "       [106.25, 255.  , 106.25, 255.  ]])"
      ]
     },
     "execution_count": 12,
     "metadata": {},
     "output_type": "execute_result"
    }
   ],
   "source": [
    "def question3(arr):\n",
    "    '''\n",
    "    1 local test case : 15 points\n",
    "    1 hidden test case : 25 points\n",
    "    '''\n",
    "    #1\n",
    "    for x in range(len(arr)):\n",
    "        if x%2==1:\n",
    "            arr[x] = arr[x][::-1]\n",
    "    #2 Go over columns\n",
    "    for x in range(len(arr[0])):\n",
    "        if numberOf1sInColumn(arr, x)%2==0:\n",
    "            arr[0][x] = 0\n",
    "        else:\n",
    "            arr[0][x] = 1\n",
    "    #3\n",
    "    meanValue = arr.mean()\n",
    "    arr = np.where(arr==0, meanValue, arr)\n",
    "    #4\n",
    "    arr = arr*255\n",
    "    #5\n",
    "    arr = arr.T      \n",
    "    return arr\n",
    "\n",
    "def numberOf1sInColumn(arr, columnNo):\n",
    "    count = 0\n",
    "    for i in range(len(arr)):\n",
    "        if arr[i][columnNo]==1:\n",
    "            count+=1\n",
    "    return count\n",
    "\n",
    "question3(np.array([[1,0,0], [1,1,0], [0,0,0], [1,0,1]]))"
   ]
  },
  {
   "cell_type": "code",
   "execution_count": 13,
   "id": "38454fef",
   "metadata": {
    "deletable": false,
    "editable": false
   },
   "outputs": [
    {
     "data": {
      "text/html": [
       "<p><strong><pre style='display: inline;'>q3</pre></strong> passed!</p>"
      ],
      "text/plain": [
       "q3 results: All test cases passed!"
      ]
     },
     "execution_count": 13,
     "metadata": {},
     "output_type": "execute_result"
    }
   ],
   "source": [
    "grader.check(\"q3\")"
   ]
  },
  {
   "cell_type": "markdown",
   "id": "ae9639de",
   "metadata": {},
   "source": [
    "**Question 4:** Complete the function `question4` based on the instructions given below.<br>"
   ]
  },
  {
   "cell_type": "markdown",
   "id": "b9687a93",
   "metadata": {},
   "source": [
    "### Convert a given number to its Roman counter part in a pandas DataFrame.\n",
    "\n",
    "Input numbers range from 1 to 50 only, You are given these numbers in a column in a pandas dataframe. You need to create a new column in the SAME dataframe with column name <b>\"Roman\"</b> and list the corresponding Roman counterparts in that column. \n",
    "\n",
    "Roman numerals are represented by seven different symbols: I, V, X, and  L<br>\n",
    "Symbol:Value<br>\n",
    "I      :       1<br>\n",
    "V       :      5<br>\n",
    "X        :     10<br>\n",
    "L         :    50<br>\n",
    "For example, 2 is written as II in Roman numeral, just two one's added together. 12 is written as XII, which is simply X + II. The number 27 is written as XXVII, which is XX + V + II.<br>\n",
    "Roman numerals are usually written largest to smallest from left to right. However, the numeral for four is not IIII. Instead, the number four is written as IV. Because the one is before the five we subtract it making four. The same principle applies to the number nine, which is written as IX. There are six instances where subtraction is used:<br>\n",
    "I can be placed before V (5) and X (10) to make 4 and 9.<br>\n",
    "X can be placed before L (50) to make 40.<br>\n",
    "Given an integer in the range of 1 to 50 (both inclusive), convert it to a roman numeral.<br>\n",
    "### NOTE: If you need a Roman mapping to any numeric value, you can ask us and we will provide it to you. You need to use df.apply to create the new Roman column. We have provided you with a function that you can use with df.apply\n"
   ]
  },
  {
   "cell_type": "code",
   "execution_count": 14,
   "id": "fe4cf813",
   "metadata": {
    "scrolled": false
   },
   "outputs": [
    {
     "data": {
      "text/html": [
       "<div>\n",
       "<style scoped>\n",
       "    .dataframe tbody tr th:only-of-type {\n",
       "        vertical-align: middle;\n",
       "    }\n",
       "\n",
       "    .dataframe tbody tr th {\n",
       "        vertical-align: top;\n",
       "    }\n",
       "\n",
       "    .dataframe thead th {\n",
       "        text-align: right;\n",
       "    }\n",
       "</style>\n",
       "<table border=\"1\" class=\"dataframe\">\n",
       "  <thead>\n",
       "    <tr style=\"text-align: right;\">\n",
       "      <th></th>\n",
       "      <th>Numeric</th>\n",
       "    </tr>\n",
       "  </thead>\n",
       "  <tbody>\n",
       "    <tr>\n",
       "      <th>0</th>\n",
       "      <td>4</td>\n",
       "    </tr>\n",
       "    <tr>\n",
       "      <th>1</th>\n",
       "      <td>12</td>\n",
       "    </tr>\n",
       "    <tr>\n",
       "      <th>2</th>\n",
       "      <td>11</td>\n",
       "    </tr>\n",
       "  </tbody>\n",
       "</table>\n",
       "</div>"
      ],
      "text/plain": [
       "   Numeric\n",
       "0        4\n",
       "1       12\n",
       "2       11"
      ]
     },
     "execution_count": 14,
     "metadata": {},
     "output_type": "execute_result"
    }
   ],
   "source": [
    "'''\n",
    "This is an example of how the input will look like\n",
    "'''\n",
    "df_dict = {'Numeric':[4,12,11]}\n",
    "inputDataFrame = pd.DataFrame(df_dict)\n",
    "inputDataFrame\n"
   ]
  },
  {
   "cell_type": "code",
   "execution_count": 15,
   "id": "a704bf45",
   "metadata": {},
   "outputs": [
    {
     "data": {
      "text/html": [
       "<div>\n",
       "<style scoped>\n",
       "    .dataframe tbody tr th:only-of-type {\n",
       "        vertical-align: middle;\n",
       "    }\n",
       "\n",
       "    .dataframe tbody tr th {\n",
       "        vertical-align: top;\n",
       "    }\n",
       "\n",
       "    .dataframe thead th {\n",
       "        text-align: right;\n",
       "    }\n",
       "</style>\n",
       "<table border=\"1\" class=\"dataframe\">\n",
       "  <thead>\n",
       "    <tr style=\"text-align: right;\">\n",
       "      <th></th>\n",
       "      <th>Numeric</th>\n",
       "      <th>Roman</th>\n",
       "    </tr>\n",
       "  </thead>\n",
       "  <tbody>\n",
       "    <tr>\n",
       "      <th>0</th>\n",
       "      <td>4</td>\n",
       "      <td>IV</td>\n",
       "    </tr>\n",
       "    <tr>\n",
       "      <th>1</th>\n",
       "      <td>12</td>\n",
       "      <td>XII</td>\n",
       "    </tr>\n",
       "    <tr>\n",
       "      <th>2</th>\n",
       "      <td>11</td>\n",
       "      <td>XI</td>\n",
       "    </tr>\n",
       "  </tbody>\n",
       "</table>\n",
       "</div>"
      ],
      "text/plain": [
       "   Numeric Roman\n",
       "0        4    IV\n",
       "1       12   XII\n",
       "2       11    XI"
      ]
     },
     "execution_count": 15,
     "metadata": {},
     "output_type": "execute_result"
    }
   ],
   "source": [
    "'''\n",
    "This is an example of how the expected output dataframe should look like.\n",
    "'''\n",
    "df_dict = {'Numeric':[4,12,11],'Roman':['IV','XII','XI']}\n",
    "outputDataFrame = pd.DataFrame(df_dict)\n",
    "outputDataFrame"
   ]
  },
  {
   "cell_type": "code",
   "execution_count": 16,
   "id": "b8186f6d",
   "metadata": {
    "tags": []
   },
   "outputs": [
    {
     "ename": "KeyError",
     "evalue": "0.4",
     "output_type": "error",
     "traceback": [
      "\u001b[1;31m---------------------------------------------------------------------------\u001b[0m",
      "\u001b[1;31mKeyError\u001b[0m                                  Traceback (most recent call last)",
      "Input \u001b[1;32mIn [16]\u001b[0m, in \u001b[0;36m<cell line: 34>\u001b[1;34m()\u001b[0m\n\u001b[0;32m     32\u001b[0m     dataFrame[\u001b[38;5;124m\"\u001b[39m\u001b[38;5;124mRoman\u001b[39m\u001b[38;5;124m\"\u001b[39m] \u001b[38;5;241m=\u001b[39m dataFrame[\u001b[38;5;124m\"\u001b[39m\u001b[38;5;124mNumeric\u001b[39m\u001b[38;5;124m\"\u001b[39m]\u001b[38;5;241m.\u001b[39mapply(convertNumeric2Roman)\n\u001b[0;32m     33\u001b[0m     \u001b[38;5;28;01mreturn\u001b[39;00m dataFrame\n\u001b[1;32m---> 34\u001b[0m \u001b[43mquestion4\u001b[49m\u001b[43m(\u001b[49m\u001b[43minputDataFrame\u001b[49m\u001b[43m)\u001b[49m\n",
      "Input \u001b[1;32mIn [16]\u001b[0m, in \u001b[0;36mquestion4\u001b[1;34m(dataFrame)\u001b[0m\n\u001b[0;32m     27\u001b[0m \u001b[38;5;28;01mdef\u001b[39;00m \u001b[38;5;21mquestion4\u001b[39m(dataFrame): \n\u001b[0;32m     28\u001b[0m     \u001b[38;5;124;03m'''\u001b[39;00m\n\u001b[0;32m     29\u001b[0m \u001b[38;5;124;03m    1 local test case : 15 points\u001b[39;00m\n\u001b[0;32m     30\u001b[0m \u001b[38;5;124;03m    1 hidden test case : 25 points\u001b[39;00m\n\u001b[0;32m     31\u001b[0m \u001b[38;5;124;03m    '''\u001b[39;00m\n\u001b[1;32m---> 32\u001b[0m     dataFrame[\u001b[38;5;124m\"\u001b[39m\u001b[38;5;124mRoman\u001b[39m\u001b[38;5;124m\"\u001b[39m] \u001b[38;5;241m=\u001b[39m \u001b[43mdataFrame\u001b[49m\u001b[43m[\u001b[49m\u001b[38;5;124;43m\"\u001b[39;49m\u001b[38;5;124;43mNumeric\u001b[39;49m\u001b[38;5;124;43m\"\u001b[39;49m\u001b[43m]\u001b[49m\u001b[38;5;241;43m.\u001b[39;49m\u001b[43mapply\u001b[49m\u001b[43m(\u001b[49m\u001b[43mconvertNumeric2Roman\u001b[49m\u001b[43m)\u001b[49m\n\u001b[0;32m     33\u001b[0m     \u001b[38;5;28;01mreturn\u001b[39;00m dataFrame\n",
      "File \u001b[1;32m~\\anaconda3\\lib\\site-packages\\pandas\\core\\series.py:4357\u001b[0m, in \u001b[0;36mSeries.apply\u001b[1;34m(self, func, convert_dtype, args, **kwargs)\u001b[0m\n\u001b[0;32m   4247\u001b[0m \u001b[38;5;28;01mdef\u001b[39;00m \u001b[38;5;21mapply\u001b[39m(\n\u001b[0;32m   4248\u001b[0m     \u001b[38;5;28mself\u001b[39m,\n\u001b[0;32m   4249\u001b[0m     func: AggFuncType,\n\u001b[1;32m   (...)\u001b[0m\n\u001b[0;32m   4252\u001b[0m     \u001b[38;5;241m*\u001b[39m\u001b[38;5;241m*\u001b[39mkwargs,\n\u001b[0;32m   4253\u001b[0m ) \u001b[38;5;241m-\u001b[39m\u001b[38;5;241m>\u001b[39m FrameOrSeriesUnion:\n\u001b[0;32m   4254\u001b[0m     \u001b[38;5;124;03m\"\"\"\u001b[39;00m\n\u001b[0;32m   4255\u001b[0m \u001b[38;5;124;03m    Invoke function on values of Series.\u001b[39;00m\n\u001b[0;32m   4256\u001b[0m \n\u001b[1;32m   (...)\u001b[0m\n\u001b[0;32m   4355\u001b[0m \u001b[38;5;124;03m    dtype: float64\u001b[39;00m\n\u001b[0;32m   4356\u001b[0m \u001b[38;5;124;03m    \"\"\"\u001b[39;00m\n\u001b[1;32m-> 4357\u001b[0m     \u001b[38;5;28;01mreturn\u001b[39;00m \u001b[43mSeriesApply\u001b[49m\u001b[43m(\u001b[49m\u001b[38;5;28;43mself\u001b[39;49m\u001b[43m,\u001b[49m\u001b[43m \u001b[49m\u001b[43mfunc\u001b[49m\u001b[43m,\u001b[49m\u001b[43m \u001b[49m\u001b[43mconvert_dtype\u001b[49m\u001b[43m,\u001b[49m\u001b[43m \u001b[49m\u001b[43margs\u001b[49m\u001b[43m,\u001b[49m\u001b[43m \u001b[49m\u001b[43mkwargs\u001b[49m\u001b[43m)\u001b[49m\u001b[38;5;241;43m.\u001b[39;49m\u001b[43mapply\u001b[49m\u001b[43m(\u001b[49m\u001b[43m)\u001b[49m\n",
      "File \u001b[1;32m~\\anaconda3\\lib\\site-packages\\pandas\\core\\apply.py:1043\u001b[0m, in \u001b[0;36mSeriesApply.apply\u001b[1;34m(self)\u001b[0m\n\u001b[0;32m   1039\u001b[0m \u001b[38;5;28;01mif\u001b[39;00m \u001b[38;5;28misinstance\u001b[39m(\u001b[38;5;28mself\u001b[39m\u001b[38;5;241m.\u001b[39mf, \u001b[38;5;28mstr\u001b[39m):\n\u001b[0;32m   1040\u001b[0m     \u001b[38;5;66;03m# if we are a string, try to dispatch\u001b[39;00m\n\u001b[0;32m   1041\u001b[0m     \u001b[38;5;28;01mreturn\u001b[39;00m \u001b[38;5;28mself\u001b[39m\u001b[38;5;241m.\u001b[39mapply_str()\n\u001b[1;32m-> 1043\u001b[0m \u001b[38;5;28;01mreturn\u001b[39;00m \u001b[38;5;28;43mself\u001b[39;49m\u001b[38;5;241;43m.\u001b[39;49m\u001b[43mapply_standard\u001b[49m\u001b[43m(\u001b[49m\u001b[43m)\u001b[49m\n",
      "File \u001b[1;32m~\\anaconda3\\lib\\site-packages\\pandas\\core\\apply.py:1098\u001b[0m, in \u001b[0;36mSeriesApply.apply_standard\u001b[1;34m(self)\u001b[0m\n\u001b[0;32m   1092\u001b[0m         values \u001b[38;5;241m=\u001b[39m obj\u001b[38;5;241m.\u001b[39mastype(\u001b[38;5;28mobject\u001b[39m)\u001b[38;5;241m.\u001b[39m_values\n\u001b[0;32m   1093\u001b[0m         \u001b[38;5;66;03m# error: Argument 2 to \"map_infer\" has incompatible type\u001b[39;00m\n\u001b[0;32m   1094\u001b[0m         \u001b[38;5;66;03m# \"Union[Callable[..., Any], str, List[Union[Callable[..., Any], str]],\u001b[39;00m\n\u001b[0;32m   1095\u001b[0m         \u001b[38;5;66;03m# Dict[Hashable, Union[Union[Callable[..., Any], str],\u001b[39;00m\n\u001b[0;32m   1096\u001b[0m         \u001b[38;5;66;03m# List[Union[Callable[..., Any], str]]]]]\"; expected\u001b[39;00m\n\u001b[0;32m   1097\u001b[0m         \u001b[38;5;66;03m# \"Callable[[Any], Any]\"\u001b[39;00m\n\u001b[1;32m-> 1098\u001b[0m         mapped \u001b[38;5;241m=\u001b[39m \u001b[43mlib\u001b[49m\u001b[38;5;241;43m.\u001b[39;49m\u001b[43mmap_infer\u001b[49m\u001b[43m(\u001b[49m\n\u001b[0;32m   1099\u001b[0m \u001b[43m            \u001b[49m\u001b[43mvalues\u001b[49m\u001b[43m,\u001b[49m\n\u001b[0;32m   1100\u001b[0m \u001b[43m            \u001b[49m\u001b[43mf\u001b[49m\u001b[43m,\u001b[49m\u001b[43m  \u001b[49m\u001b[38;5;66;43;03m# type: ignore[arg-type]\u001b[39;49;00m\n\u001b[0;32m   1101\u001b[0m \u001b[43m            \u001b[49m\u001b[43mconvert\u001b[49m\u001b[38;5;241;43m=\u001b[39;49m\u001b[38;5;28;43mself\u001b[39;49m\u001b[38;5;241;43m.\u001b[39;49m\u001b[43mconvert_dtype\u001b[49m\u001b[43m,\u001b[49m\n\u001b[0;32m   1102\u001b[0m \u001b[43m        \u001b[49m\u001b[43m)\u001b[49m\n\u001b[0;32m   1104\u001b[0m \u001b[38;5;28;01mif\u001b[39;00m \u001b[38;5;28mlen\u001b[39m(mapped) \u001b[38;5;129;01mand\u001b[39;00m \u001b[38;5;28misinstance\u001b[39m(mapped[\u001b[38;5;241m0\u001b[39m], ABCSeries):\n\u001b[0;32m   1105\u001b[0m     \u001b[38;5;66;03m# GH 25959 use pd.array instead of tolist\u001b[39;00m\n\u001b[0;32m   1106\u001b[0m     \u001b[38;5;66;03m# so extension arrays can be used\u001b[39;00m\n\u001b[0;32m   1107\u001b[0m     \u001b[38;5;28;01mreturn\u001b[39;00m obj\u001b[38;5;241m.\u001b[39m_constructor_expanddim(pd_array(mapped), index\u001b[38;5;241m=\u001b[39mobj\u001b[38;5;241m.\u001b[39mindex)\n",
      "File \u001b[1;32m~\\anaconda3\\lib\\site-packages\\pandas\\_libs\\lib.pyx:2859\u001b[0m, in \u001b[0;36mpandas._libs.lib.map_infer\u001b[1;34m()\u001b[0m\n",
      "Input \u001b[1;32mIn [16]\u001b[0m, in \u001b[0;36mconvertNumeric2Roman\u001b[1;34m(numeric_value)\u001b[0m\n\u001b[0;32m     11\u001b[0m     romanValue \u001b[38;5;241m+\u001b[39m\u001b[38;5;241m=\u001b[39m numberMapping[digit]\n\u001b[0;32m     12\u001b[0m \u001b[38;5;28;01melif\u001b[39;00m (digit\u001b[38;5;241m<\u001b[39m\u001b[38;5;241m4\u001b[39m):\n\u001b[1;32m---> 13\u001b[0m     romanValue \u001b[38;5;241m+\u001b[39m\u001b[38;5;241m=\u001b[39m \u001b[43mnumberMapping\u001b[49m\u001b[43m[\u001b[49m\u001b[43mdigit\u001b[49m\u001b[43m]\u001b[49m\u001b[38;5;241m*\u001b[39mdigit\n\u001b[0;32m     14\u001b[0m \u001b[38;5;28;01melif\u001b[39;00m (digit\u001b[38;5;241m==\u001b[39m\u001b[38;5;241m4\u001b[39m):\n\u001b[0;32m     15\u001b[0m     romanValue \u001b[38;5;241m+\u001b[39m\u001b[38;5;241m=\u001b[39m numberMapping[\u001b[38;5;241m1\u001b[39m] \u001b[38;5;241m+\u001b[39m numberMapping[\u001b[38;5;241m5\u001b[39m]\n",
      "\u001b[1;31mKeyError\u001b[0m: 0.4"
     ]
    }
   ],
   "source": [
    "def convertNumeric2Roman(numeric_value):\n",
    "    '''\n",
    "    We have provided this method to be used with df.apply\n",
    "    '''\n",
    "    romanValue=\"\"\n",
    "    numberMapping = {1:\"I\", 5:\"V\", 10:\"X\", 50:\"L\"}\n",
    "    while(numeric_value>0):\n",
    "        digit = numeric_value%10;\n",
    "        \n",
    "        if digit in numberMapping.keys():\n",
    "            romanValue += numberMapping[digit]\n",
    "        elif (digit<4):\n",
    "            romanValue += numberMapping[digit]*digit\n",
    "        elif (digit==4):\n",
    "            romanValue += numberMapping[1] + numberMapping[5]\n",
    "        elif (digit<9):\n",
    "            romanValue += numberMapping[5] + numberMapping[1]*(digit-5)\n",
    "        elif (digit==9):\n",
    "            romanValue += numberMapping[5] + numberMapping[10]\n",
    "        elif (digit<14):\n",
    "            romanValue += numberMapping[5] + numberMapping[1]*(digit-5)\n",
    "        else:\n",
    "            pass\n",
    "        numeric_value = numeric_value/10\n",
    "    return romanValue\n",
    "\n",
    "def question4(dataFrame): \n",
    "    '''\n",
    "    1 local test case : 15 points\n",
    "    1 hidden test case : 25 points\n",
    "    '''\n",
    "    dataFrame[\"Roman\"] = dataFrame[\"Numeric\"].apply(convertNumeric2Roman)\n",
    "    return dataFrame\n",
    "question4(inputDataFrame)"
   ]
  },
  {
   "cell_type": "code",
   "execution_count": null,
   "id": "1acfc221",
   "metadata": {
    "deletable": false,
    "editable": false
   },
   "outputs": [],
   "source": [
    "grader.check(\"q4\")"
   ]
  },
  {
   "cell_type": "markdown",
   "id": "acbdf072",
   "metadata": {},
   "source": [
    "### Submission Guidelines: \n",
    "#### 1. Save and run all the cells of this notebook.\n",
    "#### 2. All the assignments in this course will have two types of test cases, local test cases and hidden test cases. You will be able to test your work on local test cases by running the cell  with - grader.check_all() or grader.check(\"question number\")\n",
    "#### 3. Once you are happy with the output of grader.check_all() and upload the notebook to gradescope\n",
    "#### 4. You will be able to see the result of your work on hidden tests once the grades are released for a given assignment."
   ]
  },
  {
   "cell_type": "code",
   "execution_count": null,
   "id": "7906def4",
   "metadata": {},
   "outputs": [],
   "source": []
  },
  {
   "cell_type": "markdown",
   "id": "bc31294f",
   "metadata": {
    "deletable": false,
    "editable": false
   },
   "source": [
    "---\n",
    "\n",
    "To double-check your work, the cell below will rerun all of the autograder tests."
   ]
  },
  {
   "cell_type": "code",
   "execution_count": null,
   "id": "848e6155",
   "metadata": {
    "deletable": false,
    "editable": false
   },
   "outputs": [],
   "source": [
    "grader.check_all()"
   ]
  }
 ],
 "metadata": {
  "kernelspec": {
   "display_name": "Python 3 (ipykernel)",
   "language": "python",
   "name": "python3"
  },
  "language_info": {
   "codemirror_mode": {
    "name": "ipython",
    "version": 3
   },
   "file_extension": ".py",
   "mimetype": "text/x-python",
   "name": "python",
   "nbconvert_exporter": "python",
   "pygments_lexer": "ipython3",
   "version": "3.9.7"
  },
  "otter": {
   "OK_FORMAT": true,
   "assignment_name": "midterm",
   "tests": {
    "q1": {
     "name": "q1",
     "points": 10,
     "suites": [
      {
       "cases": [
        {
         "code": ">>> question1(np.array([[3, 7, 8],[6, 8, 8],[9, 2, 6]])) == [8,8,9]\nTrue",
         "hidden": false,
         "locked": false,
         "points": 5
        }
       ],
       "scored": true,
       "setup": "",
       "teardown": "",
       "type": "doctest"
      }
     ]
    },
    "q2": {
     "name": "q2",
     "points": 10,
     "suites": [
      {
       "cases": [
        {
         "code": ">>> question2(5) == 120\nTrue",
         "hidden": false,
         "locked": false,
         "points": 5
        }
       ],
       "scored": true,
       "setup": "",
       "teardown": "",
       "type": "doctest"
      }
     ]
    },
    "q3": {
     "name": "q3",
     "points": 40,
     "suites": [
      {
       "cases": [
        {
         "code": ">>> x = np.array([[1, 0, 0],[0, 1, 1],[1, 0, 0],[1, 1, 0]])\n>>> flags = question3(x) == np.array([[255.  , 255.  , 255.  , 148.75],[148.75, 255.  , 148.75, 255.  ],[255.  , 148.75, 148.75, 255.  ]])\n>>> sum(sum(flags)) == 12\nTrue",
         "hidden": false,
         "locked": false,
         "points": 15
        }
       ],
       "scored": true,
       "setup": "",
       "teardown": "",
       "type": "doctest"
      }
     ]
    },
    "q4": {
     "name": "q4",
     "points": 40,
     "suites": [
      {
       "cases": [
        {
         "code": ">>> df_dict = {'Numeric':[4,9,14]}\n>>> inputDataFrame = pd.DataFrame(df_dict)\n>>> list(question4(inputDataFrame)['Roman']) == ['IV', 'IX', 'XIV']\nTrue",
         "hidden": false,
         "locked": false,
         "points": 15
        }
       ],
       "scored": true,
       "setup": "",
       "teardown": "",
       "type": "doctest"
      }
     ]
    }
   }
  }
 },
 "nbformat": 4,
 "nbformat_minor": 5
}
