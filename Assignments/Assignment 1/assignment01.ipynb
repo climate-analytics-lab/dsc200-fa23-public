{
 "cells": [
  {
   "cell_type": "code",
   "execution_count": null,
   "id": "c74069c4",
   "metadata": {
    "deletable": false,
    "editable": false
   },
   "outputs": [],
   "source": [
    "# Initialize Otter\n",
    "import otter\n",
    "grader = otter.Notebook(\"assignment01.ipynb\")"
   ]
  },
  {
   "cell_type": "markdown",
   "id": "1f54b4fe",
   "metadata": {},
   "source": [
    "## Assignment 1"
   ]
  },
  {
   "cell_type": "markdown",
   "id": "c244c792",
   "metadata": {},
   "source": [
    "### Submission Guidelines: \n",
    "#### 1. Save and run all the cells of this notebook.\n",
    "#### 2. All the assignments in this course will have two types of test cases, local test cases and hidden test cases. You will be able to test your work on local test cases by running the cell  with - grader.check_all() or grader.check(\"question number\")\n",
    "#### 3. Once you are happy with the output of grader.check_all(), you should save the notebook and upload it to gradescope\n",
    "#### 4. You will be able to see the result of your work on hidden tests once the grades are released for a given assignment."
   ]
  },
  {
   "cell_type": "code",
   "execution_count": null,
   "id": "b06f65d2",
   "metadata": {},
   "outputs": [],
   "source": [
    "import numpy as np"
   ]
  },
  {
   "cell_type": "markdown",
   "id": "93d07f76",
   "metadata": {},
   "source": [
    "**Question 1:** Write a function `question1` that returns a list of even numbers between the range (x,y) given in arguements.<br>\n",
    "Ex: x = 2, y = 7 <br>\n",
    "Ans: [2,4,6]"
   ]
  },
  {
   "cell_type": "code",
   "execution_count": null,
   "id": "4dc11397",
   "metadata": {
    "tags": []
   },
   "outputs": [],
   "source": [
    "def question1(x,y):\n",
    "    l=[]\n",
    "    ...\n",
    "    return l\n",
    "    "
   ]
  },
  {
   "cell_type": "code",
   "execution_count": null,
   "id": "37f4e5f5",
   "metadata": {
    "deletable": false,
    "editable": false
   },
   "outputs": [],
   "source": [
    "grader.check(\"q1\")"
   ]
  },
  {
   "cell_type": "markdown",
   "id": "a7d0f406",
   "metadata": {},
   "source": [
    "**Question 2:** Write a function `solveMaze` that returns a solved maze.  <br>\n",
    " - Every maze (NxN) starts at (0,0) and ends at (N-1,N-1), you can traverse in empty cells (\" \") but cannot travel through cells that have X in them. <br>\n",
    " - You cannot move diagonally in the maze.<br>\n",
    " - Maze has only one path and no dead ends. <br>\n",
    " - If a maze can be solved, there will be only one possible path. You need to return a solved maze that highlights this path. The path in the solved MAZE should be returned as shown below. Cells that are a part of the path should have value \"-\"<br>\n",
    " - If a maze  cannot be solved, return -1. <br>\n",
    "\n",
    "Ex:<br>\n",
    "[[\" \",\"X\",\"X\"], <br>\n",
    " [\" \",\" \",\" \"], <br>\n",
    " [\"X\",\"X\",\" \"]]<br>\n",
    " <br>\n",
    "Ans:<br>\n",
    "[[\"-\",\"X\",\"X\"], <br>\n",
    " [\"-\",\"-\",\"-\"], <br>\n",
    " [\"X\",\"X\",\"-\"]]<br>"
   ]
  },
  {
   "cell_type": "code",
   "execution_count": null,
   "id": "2422a6df",
   "metadata": {
    "tags": []
   },
   "outputs": [],
   "source": [
    "maze = [[\"-\",\"X\",\"X\",\"X\"],[\"-\",\"-\",\"-\",\"X\"],[\"X\",\"X\",\"-\",\"-\"]]\n",
    "print(\"Input: \")\n",
    "print(np.array(maze))"
   ]
  },
  {
   "cell_type": "code",
   "execution_count": null,
   "id": "d334302a",
   "metadata": {
    "tags": []
   },
   "outputs": [],
   "source": [
    "maze = [[\" \",\"X\",\"X\"],[\" \",\" \",\" \"],[\"X\",\"X\",\" \"]]\n",
    "# maze = [[\" \",\"X\",\"X\",\"X\"],[\" \",\" \",\"X\",\"X\"],[\" \",\"X\",\" \",\" \"],[\" \",\" \",\"X\",\"X\"]]\n",
    "print(\"Input: \")\n",
    "print(np.array(maze))\n",
    "def solveMaze(maze):\n",
    "    ...\n",
    "    return maze\n"
   ]
  },
  {
   "cell_type": "code",
   "execution_count": null,
   "id": "2e41f12c",
   "metadata": {
    "deletable": false,
    "editable": false
   },
   "outputs": [],
   "source": [
    "grader.check(\"q2\")"
   ]
  },
  {
   "cell_type": "markdown",
   "id": "02f3c625",
   "metadata": {},
   "source": [
    "**Question 3:** Write a function `detectFrontRunner` that solves the following problem.  <br>\n",
    "You are an analyst at the Securities and Exchange Commission agency. It is your job to find a front runner. Front-running is trading stock or any other financial asset by a broker who has inside knowledge of a future transaction that is about to affect its price substantially. A front runner is a trader that is involved in insider trading. \n",
    "You are provided with rules to detect front runners. Apply the rules to the data sample data provided and identify a front runner. Return trader_id of all the front runners (In the order the arrive) in a list.<br>\n",
    "\n",
    "Rules:\n",
    " - A trader is flagged as a front runner if the trader has trader_type as 'ELECTRONIC'.<br>\n",
    " - There are two types of trader, electronic traders and broker traders, only electronic traders can be front runners. Broker traders cannot be front runners. <br>\n",
    " - A trade is classified as a front running trade if:\n",
    "       - It occurs within 5 mins of broker trade. \n",
    "       - It is trading the same stock as the broker trade. \n",
    "       - It has the same price as the broker trade. \n",
    "       - It has the same trade_type (BUY/SELL) as the broker trade.\n",
    "       - It has the same expiry date as the broker trade."
   ]
  },
  {
   "cell_type": "markdown",
   "id": "d8cb659e",
   "metadata": {},
   "source": [
    "sample_data=[<br>\n",
    "        {<br>\n",
    "            \"trader_id\":\"trader_12\",<br>\n",
    "            \"trader_type\":\"Broker\",<br>\n",
    "            \"trade_date\":\"08-31-2022\"<br>\n",
    "            \"trade_time\":\"14:26:14\",<br>\n",
    "            \"expiry\":\"09-23-2022\",<br>\n",
    "            \"price\":\"800\",<br>\n",
    "            \"exchange\":\"CBE\",<br>\n",
    "            \"stock\":\"TSLA\",<br>\n",
    "            \"trade_type\":\"BUY\"<br>\n",
    "        },<br>\n",
    "    {<br>\n",
    "        \"trader_id\":\"trader_43\",<br>\n",
    "        \"trader_type\":\"Electronic\",<br>\n",
    "        \"trade_date\":\"08-31-2022\"<br>\n",
    "        \"trade_time\":\"14:29:34\",<br>\n",
    "        \"expiry\":\"09-23-2022\",<br>\n",
    "        \"price\":\"800\",<br>\n",
    "        \"exchange\":\"CBE\",<br>\n",
    "        \"stock\":\"TSLA\",<br>\n",
    "        \"trade_type\":\"BUY\"<br>\n",
    "    }<br>\n",
    "]<br>\n",
    "\n",
    "The output for the given sample data will be<br>\n",
    "[\"trader_43\"]\n"
   ]
  },
  {
   "cell_type": "code",
   "execution_count": null,
   "id": "8c304496",
   "metadata": {
    "tags": []
   },
   "outputs": [],
   "source": [
    "data = [\n",
    "    {\n",
    "        \"trader_id\":\"trader_12\",\n",
    "        \"trader_type\":\"BROKER\",\n",
    "        \"trade_date\":\"08-31-2022\",\n",
    "        \"trade_time\":\"14:26:14\",\n",
    "        \"expiry\":\"09-23-2022\",\n",
    "        \"price\":\"800\",\n",
    "        \"exchange\":\"CBE\",\n",
    "        \"stock\":\"TSLA\",\n",
    "        \"trade_type\":\"BUY\"\n",
    "    },\n",
    "    {\n",
    "        \"trader_id\":\"trader_43\",\n",
    "        \"trader_type\":\"ELECTRONIC\",\n",
    "        \"trade_date\":\"08-31-2022\",\n",
    "        \"trade_time\":\"14:29:34\",\n",
    "        \"expiry\":\"09-23-2022\",\n",
    "        \"price\":\"800\",\n",
    "        \"exchange\":\"CBE\",\n",
    "        \"stock\":\"TSLA\",\n",
    "        \"trade_type\":\"BUY\"\n",
    "    },\n",
    "    {\n",
    "        \"trader_id\":\"trader_23\",\n",
    "        \"trader_type\":\"ELECTRONIC\",\n",
    "        \"trade_date\":\"08-31-2022\",\n",
    "        \"trade_time\":\"14:55:32\",\n",
    "        \"expiry\":\"09-23-2022\",\n",
    "        \"price\":\"800\",\n",
    "        \"exchange\":\"CBE\",\n",
    "        \"stock\":\"TSLA\",\n",
    "        \"trade_type\":\"SELL\"\n",
    "    }\n",
    "]"
   ]
  },
  {
   "cell_type": "code",
   "execution_count": null,
   "id": "a8cc9570",
   "metadata": {
    "tags": []
   },
   "outputs": [],
   "source": [
    "from datetime import datetime #IGNORE\n",
    "def detectFrontRunner(data):\n",
    "    frontRunners=[]\n",
    "    ...\n",
    "    return frontRunners\n",
    "detectFrontRunner(data)"
   ]
  },
  {
   "cell_type": "code",
   "execution_count": null,
   "id": "d7116e26",
   "metadata": {
    "deletable": false,
    "editable": false
   },
   "outputs": [],
   "source": [
    "grader.check(\"q3\")"
   ]
  },
  {
   "cell_type": "markdown",
   "id": "0a479b78",
   "metadata": {},
   "source": [
    "**Question 4:** Write a function `generateModifiedFibonacci` that generates a modified Fibonacci sequence using recursion of length n (provided as an argument).  <br>\n",
    "\n",
    "Fibonacci Sequence : The pattern begins after the first two numbers, 0 and 1, where each number in the sequence is always the sum of the two numbers before it.<br>\n",
    "You need to identify a pattern from the samples given below and write a function to generate a sequence that follows this given pattern. <br>\n",
    "Here are some examples of a ModifiedFibonacci sequence<br>\n",
    "generateModifiedFibonacci(4) = [1, 2, 3, 7] <br>\n",
    "generateModifiedFibonacci(6) = [1, 2, 3, 7, 22, 155] <br>\n",
    "generateModifiedFibonacci(8) = [1, 2, 3, 7, 22, 155, 3411, 528706] <br>\n",
    "<br>\n",
    "\n",
    "\n",
    "Note: The base case for this problem is generateModifiedFibonacci(2) = [1,2]<br>\n",
    "You need to solve the following problem using recursion, use of loops and other methods will result in point deduction.\n"
   ]
  },
  {
   "cell_type": "code",
   "execution_count": null,
   "id": "86f58840",
   "metadata": {
    "tags": []
   },
   "outputs": [],
   "source": [
    "def generateModifiedFibonacci(n):\n",
    "    ...\n",
    "    return ...\n",
    "def modifiedFibonacci(num):\n",
    "    ..."
   ]
  },
  {
   "cell_type": "code",
   "execution_count": null,
   "id": "830058d3",
   "metadata": {
    "deletable": false,
    "editable": false
   },
   "outputs": [],
   "source": [
    "grader.check(\"q4\")"
   ]
  },
  {
   "cell_type": "markdown",
   "id": "9d1e4427",
   "metadata": {},
   "source": [
    "**Question 5:** Write a function `solveMazeBackTracking` that returns a solved maze.  <br>\n",
    " - In question 1, we solve a maze that has a trivial solution, i.e. there are no dead ends in the maze provided in the first question.\n",
    " - Now that we have learned recursion, we want to apply the concept of recursion to solve mazes that have dead ends.\n",
    " - Every maze (NxN) starts at (0,0) and ends at (N-1,N-1), you can traverse in empty cells (\" \") but cannot travel through cells that have X in them. <br>\n",
    " - You cannot move diagonally in the maze.<br>\n",
    " - If a maze can be solved, there will be only one possible path. You need to return 1 if a maze can be solved.<br>\n",
    " - If a maze  cannot be solved, return -1. <br>\n",
    "\n"
   ]
  },
  {
   "cell_type": "markdown",
   "id": "20d6c50a",
   "metadata": {},
   "source": [
    "### NOTE: There is an extra credit component in this question, if you save the solved maze that highlights the path (The path in the solved MAZE should be returned as shown below. Cells that are a part of the path should have value \"-\") in the solution array provided, you will receive an extra 10 points.\n",
    "Ex:<br>\n",
    "[[\" \",\"X\",\"X\"], <br>\n",
    " [\" \",\" \",\" \"], <br>\n",
    " [\" \",\"X\",\" \"]]<br>\n",
    " <br>\n",
    "Ans:<br>\n",
    "[[\"-\",\"X\",\"X\"], <br>\n",
    " [\"-\",\"-\",\"-\"], <br>\n",
    " [\" \",\"X\",\"-\"]]<br>"
   ]
  },
  {
   "cell_type": "code",
   "execution_count": null,
   "id": "4784f08c",
   "metadata": {
    "scrolled": false,
    "tags": []
   },
   "outputs": [],
   "source": [
    "maze = [[\" \",\"X\",\"X\"],[\" \",\" \",\" \"],[\" \",\"X\",\" \"]]\n",
    "print(\"Input: \")\n",
    "print(np.array(maze))\n",
    "\n",
    "def solveMazeBackTracking(maze,display=False):\n",
    "    maze = np.array(maze)\n",
    "    solution = np.array(maze)\n",
    "    ...\n",
    "    if(display):\n",
    "        return solution\n",
    "    return output\n",
    "print('Output:')\n",
    "print(solveMazeBackTracking(maze))"
   ]
  },
  {
   "cell_type": "code",
   "execution_count": null,
   "id": "6b82f306",
   "metadata": {
    "deletable": false,
    "editable": false
   },
   "outputs": [],
   "source": [
    "grader.check(\"q5\")"
   ]
  },
  {
   "cell_type": "markdown",
   "id": "ca76190c",
   "metadata": {},
   "source": [
    "### Submission Guidelines: \n",
    "#### 1. Save and run all the cells of this notebook.\n",
    "#### 2. All the assignments in this course will have two types of test cases, local test cases and hidden test cases. You will be able to test your work on local test cases by running the cell  with - grader.check_all() or grader.check(\"question number\")\n",
    "#### 3. Once you are happy with the output of grader.check_all(), you should save the notebook and upload it to gradescope\n",
    "#### 4. You will be able to see the result of your work on hidden tests once the grades are released for a given assignment."
   ]
  },
  {
   "cell_type": "code",
   "execution_count": null,
   "id": "c4973306",
   "metadata": {},
   "outputs": [],
   "source": []
  },
  {
   "cell_type": "markdown",
   "id": "72952f73",
   "metadata": {
    "deletable": false,
    "editable": false
   },
   "source": [
    "---\n",
    "\n",
    "To double-check your work, the cell below will rerun all of the autograder tests."
   ]
  },
  {
   "cell_type": "code",
   "execution_count": null,
   "id": "b526e96b",
   "metadata": {
    "deletable": false,
    "editable": false
   },
   "outputs": [],
   "source": [
    "grader.check_all()"
   ]
  }
 ],
 "metadata": {
  "kernelspec": {
   "display_name": "Python 3 (ipykernel)",
   "language": "python",
   "name": "python3"
  },
  "language_info": {
   "codemirror_mode": {
    "name": "ipython",
    "version": 3
   },
   "file_extension": ".py",
   "mimetype": "text/x-python",
   "name": "python",
   "nbconvert_exporter": "python",
   "pygments_lexer": "ipython3",
   "version": "3.9.7"
  },
  "otter": {
   "OK_FORMAT": true,
   "assignment_name": "assignment01",
   "tests": {
    "q1": {
     "name": "q1",
     "points": 10,
     "suites": [
      {
       "cases": [
        {
         "code": ">>> question1(11,17) == [12,14,16]\nTrue",
         "hidden": false,
         "locked": false,
         "points": 5
        }
       ],
       "scored": true,
       "setup": "",
       "teardown": "",
       "type": "doctest"
      }
     ]
    },
    "q2": {
     "name": "q2",
     "points": 10,
     "suites": [
      {
       "cases": [
        {
         "code": ">>> solveMaze([[\" \",\"X\",\"X\"],[\" \",\"X\",\" \"],[\"X\",\"X\",\" \"]]) == -1\nTrue",
         "hidden": false,
         "locked": false,
         "points": 2.5
        },
        {
         "code": ">>> solveMaze([[\" \",\" \",],[\"X\",\" \"]]) == [[\"-\",\"-\",],[\"X\",\"-\"]]\nTrue",
         "hidden": false,
         "locked": false,
         "points": 2.5
        }
       ],
       "scored": true,
       "setup": "",
       "teardown": "",
       "type": "doctest"
      }
     ]
    },
    "q3": {
     "name": "q3",
     "points": 35,
     "suites": [
      {
       "cases": [
        {
         "code": ">>> data = [{\"trader_id\":\"trader_12\",\"trader_type\":\"BROKER\",\"trade_date\":\"08-31-2022\",\"trade_time\":\"14:26:14\",\"expiry\":\"09-23-2022\",\"price\":\"800\",\"exchange\":\"CBE\",\"stock\":\"TSLA\",\"trade_type\":\"BUY\"},\n...     {\"trader_id\":\"trader_43\",\"trader_type\":\"ELECTRONIC\",\"trade_date\":\"08-31-2022\",\"trade_time\":\"14:29:34\",\"expiry\":\"09-23-2022\",\"price\":\"800\",\"exchange\":\"CBE\",\"stock\":\"TSLA\",\"trade_type\":\"BUY\"},\n...     {\"trader_id\":\"trader_23\",\"trader_type\":\"ELECTRONIC\",\"trade_date\":\"08-31-2022\",\"trade_time\":\"14:55:32\",\"expiry\":\"09-23-2022\",\"price\":\"800\",\"exchange\":\"CBE\",\"stock\":\"TSLA\",\"trade_type\":\"SELL\"}]\n>>> detectFrontRunner(data) == ['trader_43']\nTrue",
         "hidden": false,
         "locked": false,
         "points": 5
        }
       ],
       "scored": true,
       "setup": "",
       "teardown": "",
       "type": "doctest"
      }
     ]
    },
    "q4": {
     "name": "q4",
     "points": 15,
     "suites": [
      {
       "cases": [
        {
         "code": ">>> generateModifiedFibonacci(4) == [1, 2, 3, 7]\nTrue",
         "hidden": false,
         "locked": false,
         "points": 5
        }
       ],
       "scored": true,
       "setup": "",
       "teardown": "",
       "type": "doctest"
      }
     ]
    },
    "q5": {
     "name": "q5",
     "points": 35,
     "suites": [
      {
       "cases": [
        {
         "code": ">>> solveMazeBackTracking([[\" \",\"X\",\"X\"],[\" \",\"X\",\" \"],[\"X\",\"X\",\" \"]]) == -1\nTrue",
         "hidden": false,
         "locked": false,
         "points": 3
        },
        {
         "code": ">>> solveMazeBackTracking([[\" \",\" \",],[\"X\",\" \"]]) == 1\nTrue",
         "hidden": false,
         "locked": false,
         "points": 2
        }
       ],
       "scored": true,
       "setup": "",
       "teardown": "",
       "type": "doctest"
      }
     ]
    }
   }
  }
 },
 "nbformat": 4,
 "nbformat_minor": 5
}
