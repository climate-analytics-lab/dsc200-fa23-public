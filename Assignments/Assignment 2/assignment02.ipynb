{
 "cells": [
  {
   "cell_type": "code",
   "execution_count": null,
   "id": "0a1fca20",
   "metadata": {
    "deletable": false,
    "editable": false
   },
   "outputs": [],
   "source": [
    "# Initialize Otter\n",
    "import otter\n",
    "grader = otter.Notebook(\"assignment02.ipynb\")"
   ]
  },
  {
   "cell_type": "markdown",
   "id": "0e426454",
   "metadata": {},
   "source": [
    "## Assignment 2"
   ]
  },
  {
   "cell_type": "markdown",
   "id": "62860e57",
   "metadata": {},
   "source": [
    "### Do not change the code that has been provided to you. You can add code but do not change/remove any components provided by us."
   ]
  },
  {
   "cell_type": "code",
   "execution_count": null,
   "id": "e6b68804",
   "metadata": {},
   "outputs": [],
   "source": [
    "import numpy as np\n",
    "import pandas as pd\n",
    "import matplotlib.pyplot as plt"
   ]
  },
  {
   "cell_type": "code",
   "execution_count": null,
   "id": "69c224b1",
   "metadata": {
    "scrolled": true
   },
   "outputs": [],
   "source": [
    "data = pd.read_csv('./data.csv')\n",
    "data.head()"
   ]
  },
  {
   "cell_type": "markdown",
   "id": "46e05cf3",
   "metadata": {},
   "source": [
    "**Question 1:** Write a function `data_preprocessing` that returns a preprocessed data based on the rules given below.<br>"
   ]
  },
  {
   "cell_type": "markdown",
   "id": "df960929",
   "metadata": {},
   "source": [
    "### You need to clean the data to prepare it for the next steps: Follow the following steps.\n",
    "<ul>\n",
    "    <li>Shipment column can only have three types : {'Flight', 'Road', 'Ship'}. Any row that does not have the given shipment type, should be removed.</li>\n",
    "    <li>The Rating column can have the following values : {1.0,2.0,3.0,4.0,5.0}. Any row that has a rating value other than the given values, should be replaced by the average value of the rating column</li>\n",
    "    <li>The Weight column has numeric values. Any row that has a weight value other than a valid numeric value, should be replaced by the average value of the weight column</li>\n",
    "    <li>The Discount column can have numeric values in the range (0 to 80). Any row that has a weight value other than a valid value, should be replaced by the average value of the discount column</li>\n",
    "    <li>Any row that has the Shipment Delivered (1/0) value other than 1 or 0 should be removed.</li>\n",
    "</ul>\n",
    "\n"
   ]
  },
  {
   "cell_type": "code",
   "execution_count": null,
   "id": "06e69052",
   "metadata": {
    "tags": []
   },
   "outputs": [],
   "source": [
    "def data_preprocessing(data):\n",
    "    ...\n",
    "    return data\n",
    "data = data_preprocessing(data)"
   ]
  },
  {
   "cell_type": "code",
   "execution_count": null,
   "id": "448aebe3",
   "metadata": {
    "deletable": false,
    "editable": false
   },
   "outputs": [],
   "source": [
    "grader.check(\"q1\")"
   ]
  },
  {
   "cell_type": "markdown",
   "id": "b62a4289",
   "metadata": {},
   "source": [
    "<!-- BEGIN QUESTION -->\n",
    "\n",
    "**Question 2:** Write a function `data_analysis_matplotlib` that displays plots based on the requirements given below.<br>"
   ]
  },
  {
   "cell_type": "markdown",
   "id": "8451ba44",
   "metadata": {},
   "source": [
    "### Display plots based on the requirements given below.\n",
    "<ul>\n",
    "    <li>Display a plot that has two subplots, the first subplot should be a grouped bar chart between number of shipments delivered and Product_importance: groups(shipment delivered/ shipment not delivered), the second subplot should be a grouped bar chart between the number of shipments delivered and Region: groups(shipment delivered/ shipment not delivered) </li>\n",
    "</ul>\n",
    "The plot should look like this:<br>\n",
    "<img src='./data/plot.png' width = \"800\" height=\"400\">\n",
    "Note : You might have to find out the different categories and range of columns in the data to come up with a more effective visualization.\n"
   ]
  },
  {
   "cell_type": "code",
   "execution_count": null,
   "id": "c3df3269",
   "metadata": {
    "tags": []
   },
   "outputs": [],
   "source": [
    "def data_analysis_matplotlib(data):\n",
    "    plt.figure(figsize=(16,8))\n",
    "    \n",
    "    ...\n",
    "    plt.show()\n",
    "data_analysis_matplotlib(data)"
   ]
  },
  {
   "cell_type": "markdown",
   "id": "e5c96c3e",
   "metadata": {},
   "source": [
    "<!-- END QUESTION -->\n",
    "\n",
    "**Question 3:** Write a function `one_hot_encoding` that encodes feature vector according to details given below.<br>"
   ]
  },
  {
   "cell_type": "markdown",
   "id": "19f1740b",
   "metadata": {},
   "source": [
    "### One-hot Encoding data for machine learning.\n",
    "<ul>\n",
    "    <li>We need to create a feature vector (X) and label vector (y) that we will use in our Machine Learning Model.</li>\n",
    "    <li>In order to create a feature vector, we need to one-hot encode the categorical features - Region, Shipment, Product_importance, Gender</li>\n",
    "</ul>\n"
   ]
  },
  {
   "cell_type": "code",
   "execution_count": null,
   "id": "61c545f0",
   "metadata": {
    "tags": []
   },
   "outputs": [],
   "source": [
    "data.head()"
   ]
  },
  {
   "cell_type": "code",
   "execution_count": null,
   "id": "6849ac83",
   "metadata": {
    "tags": []
   },
   "outputs": [],
   "source": [
    "def one_hot_encoding(data):\n",
    "    data['Gender'] = data['Gender'].replace(to_replace = \"F\", value = \"Female\")\n",
    "    data['Gender'] = data['Gender'].replace(to_replace = \"M\", value = \"Male\")\n",
    "    \n",
    "    categorical_feats = ['Region','Shipment','Product_importance','Gender']\n",
    "    ...\n",
    "    return data\n",
    "one_hot_data = one_hot_encoding(data)\n",
    "X = np.array(one_hot_data.drop('Shipment Delivered (1/0)', axis=1))\n",
    "y = np.array(one_hot_data['Shipment Delivered (1/0)'])"
   ]
  },
  {
   "cell_type": "code",
   "execution_count": null,
   "id": "d0e8cb63",
   "metadata": {
    "deletable": false,
    "editable": false
   },
   "outputs": [],
   "source": [
    "grader.check(\"q3\")"
   ]
  },
  {
   "cell_type": "code",
   "execution_count": null,
   "id": "b975783f",
   "metadata": {},
   "outputs": [],
   "source": [
    "import json\n",
    "data={}\n",
    "data['X_train']=X[:9000].tolist()\n",
    "data['y_train']=y[:9000].tolist()\n",
    "data['X_test']=X[9000:].tolist()\n",
    "data['y_test']=y[9000:].tolist()"
   ]
  },
  {
   "cell_type": "code",
   "execution_count": null,
   "id": "b1b8a835",
   "metadata": {},
   "outputs": [],
   "source": [
    "with open(\"data.json\", \"w\") as outfile:\n",
    "    json.dump(data, outfile)"
   ]
  },
  {
   "cell_type": "code",
   "execution_count": null,
   "id": "fbba4a6a",
   "metadata": {},
   "outputs": [],
   "source": [
    "'''\n",
    "If you get the error: ModuleNotFoundError: No module named 'sklearn',\n",
    "uncomment the line below and run this cell, then restart the notebook and run all cells again\n",
    "'''\n",
    "# !pip install scikit-learn"
   ]
  },
  {
   "cell_type": "markdown",
   "id": "7e021dfa",
   "metadata": {},
   "source": [
    "**Question 4:**<br>"
   ]
  },
  {
   "cell_type": "markdown",
   "id": "92d297c0",
   "metadata": {},
   "source": [
    "### Run the machine learning model in model.py\n",
    "<ul>\n",
    "    <li>You have been provided a model.py file along with this notebook.</li>\n",
    "    <li>There are two calls stated below, one for training and other for testing. Both calls differ in the system arguements that are passed to the main function. </li>\n",
    "<li>If -train is passed as a system argument, then you need to run_model function as run_model(\"data.json\",train = True) \n",
    "    </li>\n",
    "<li>If -test is passed as a system argument, then you need to run_model function as run_model(\"data.json\",train = False) \n",
    "    </li>\n",
    "</ul>\n"
   ]
  },
  {
   "cell_type": "code",
   "execution_count": null,
   "id": "98f2dbbe",
   "metadata": {
    "tags": []
   },
   "outputs": [],
   "source": [
    "!python model.py -train"
   ]
  },
  {
   "cell_type": "code",
   "execution_count": null,
   "id": "778244a6",
   "metadata": {
    "tags": []
   },
   "outputs": [],
   "source": [
    "!python model.py -test"
   ]
  },
  {
   "cell_type": "code",
   "execution_count": null,
   "id": "ff26d00d",
   "metadata": {
    "tags": []
   },
   "outputs": [],
   "source": [
    "import json\n",
    "with open(\"output_train.json\", \"r\") as outfile:\n",
    "    output_train=json.load(outfile)\n",
    "with open(\"output_test.json\", \"r\") as outfile:\n",
    "    output_test=json.load(outfile)"
   ]
  },
  {
   "cell_type": "code",
   "execution_count": null,
   "id": "3659c5d1",
   "metadata": {
    "deletable": false,
    "editable": false
   },
   "outputs": [],
   "source": [
    "grader.check(\"q4\")"
   ]
  },
  {
   "cell_type": "markdown",
   "id": "7e01b7ab",
   "metadata": {},
   "source": [
    "**Question 5:**<br>"
   ]
  },
  {
   "cell_type": "markdown",
   "id": "795e5b1f",
   "metadata": {},
   "source": [
    "### Regex\n",
    "<ul>\n",
    "    <li>Complete the functions given below to provide regex functionality</li>\n",
    "</ul>\n"
   ]
  },
  {
   "cell_type": "code",
   "execution_count": null,
   "id": "90a4a563",
   "metadata": {
    "tags": []
   },
   "outputs": [],
   "source": [
    "import re\n",
    "def regex1(string):\n",
    "    '''\n",
    "    Given an IP number as a string remove all leading zeros in the IP address\n",
    "    Ex: regex1(\"123.01.09.103\") = '123.1.9.103'\n",
    "    \n",
    "    '''\n",
    "    ans = None\n",
    "    ...\n",
    "    return ans\n",
    "regex1(\"123.01.09.103\")"
   ]
  },
  {
   "cell_type": "code",
   "execution_count": null,
   "id": "2c66f2ae",
   "metadata": {
    "tags": []
   },
   "outputs": [],
   "source": [
    "def regex2(string):\n",
    "    '''\n",
    "    Given an email return True if the email is valid, else return False\n",
    "    regex2('john.doe-gmail.com') = False\n",
    "    '''\n",
    "    flag = None\n",
    "    ...\n",
    "    return flag\n",
    "regex2('john.doe-gmail.com')"
   ]
  },
  {
   "cell_type": "code",
   "execution_count": null,
   "id": "6cbfdd02",
   "metadata": {
    "deletable": false,
    "editable": false
   },
   "outputs": [],
   "source": [
    "grader.check(\"q5\")"
   ]
  },
  {
   "cell_type": "markdown",
   "id": "c229783a",
   "metadata": {},
   "source": [
    "### Submission Guidelines: \n",
    "#### 1. Save and run all the cells of this notebook.\n",
    "#### 2. All the assignments in this course will have two types of test cases, local test cases and hidden test cases. You will be able to test your work on local test cases by running the cell  with - grader.check_all() or grader.check(\"question number\")\n",
    "#### 3. Once you are happy with the output of grader.check_all(), you should save the following files in a zip to gradescope:  assignment02.ipynb, model.py, output_train.json, output_test.json, data.csv\n",
    "#### 4. You will be able to see the result of your work on hidden tests once the grades are released for a given assignment."
   ]
  },
  {
   "cell_type": "code",
   "execution_count": null,
   "id": "7f55b607",
   "metadata": {},
   "outputs": [],
   "source": []
  },
  {
   "cell_type": "code",
   "execution_count": null,
   "id": "7afe3292",
   "metadata": {},
   "outputs": [],
   "source": []
  },
  {
   "cell_type": "code",
   "execution_count": null,
   "id": "ca950439",
   "metadata": {},
   "outputs": [],
   "source": []
  },
  {
   "cell_type": "code",
   "execution_count": null,
   "id": "ca59ff91",
   "metadata": {},
   "outputs": [],
   "source": []
  },
  {
   "cell_type": "markdown",
   "id": "79838b8a",
   "metadata": {
    "deletable": false,
    "editable": false
   },
   "source": [
    "---\n",
    "\n",
    "To double-check your work, the cell below will rerun all of the autograder tests."
   ]
  },
  {
   "cell_type": "code",
   "execution_count": null,
   "id": "b7885197",
   "metadata": {
    "deletable": false,
    "editable": false
   },
   "outputs": [],
   "source": [
    "grader.check_all()"
   ]
  }
 ],
 "metadata": {
  "kernelspec": {
   "display_name": "Python 3 (ipykernel)",
   "language": "python",
   "name": "python3"
  },
  "language_info": {
   "codemirror_mode": {
    "name": "ipython",
    "version": 3
   },
   "file_extension": ".py",
   "mimetype": "text/x-python",
   "name": "python",
   "nbconvert_exporter": "python",
   "pygments_lexer": "ipython3",
   "version": "3.9.7"
  },
  "otter": {
   "OK_FORMAT": true,
   "assignment_name": "assignment02",
   "tests": {
    "q1": {
     "name": "q1",
     "points": 30,
     "suites": [
      {
       "cases": [
        {
         "code": ">>> data.isnull().sum().sum()==0\nTrue",
         "hidden": false,
         "locked": false,
         "points": 15
        }
       ],
       "scored": true,
       "setup": "",
       "teardown": "",
       "type": "doctest"
      }
     ]
    },
    "q3": {
     "name": "q3",
     "points": 20,
     "suites": [
      {
       "cases": [
        {
         "code": ">>> X.shape == (10618, 20)\nTrue",
         "hidden": false,
         "locked": false,
         "points": 5
        },
        {
         "code": ">>> y.shape == (10618,)\nTrue",
         "hidden": false,
         "locked": false,
         "points": 5
        },
        {
         "code": ">>> arr = np.array([1.000e+00, 4.000e+00, 2.000e+00, 1.770e+02, 3.000e+00, 4.400e+01, 1.233e+03,0.000e+00, 0.000e+00, 0.000e+00, 1.000e+00, 0.000e+00, 1.000e+00, 0.000e+00, 0.000e+00, 0.000e+00, 1.000e+00, 0.000e+00, 1.000e+00, 0.000e+00])\n>>> base = X[0],\n>>> sum(sum(np.equal(arr,base))) == 20\nTrue",
         "hidden": false,
         "locked": false,
         "points": 10
        }
       ],
       "scored": true,
       "setup": "",
       "teardown": "",
       "type": "doctest"
      }
     ]
    },
    "q4": {
     "name": "q4",
     "points": 10,
     "suites": [
      {
       "cases": [
        {
         "code": ">>> output_train['training_accuracy'] == 1.0\nTrue",
         "hidden": false,
         "locked": false,
         "points": 5
        },
        {
         "code": ">>> output_test['training_accuracy'] == 1.0 and round(output_test['testing_accuracy'],2) == 0.54\nTrue",
         "hidden": false,
         "locked": false,
         "points": 5
        }
       ],
       "scored": true,
       "setup": "",
       "teardown": "",
       "type": "doctest"
      }
     ]
    },
    "q5": {
     "name": "q5",
     "points": 10,
     "suites": [
      {
       "cases": [
        {
         "code": ">>> regex1(\"103.012.32.87\") == \"103.12.32.87\" and regex1(\"100.001.100.001\") == \"100.1.100.1\"\nTrue",
         "hidden": false,
         "locked": false,
         "points": 5
        },
        {
         "code": ">>> regex2('john.doe-gmail.com') == False and regex2('jack.fro@gmail.com') == True\nTrue",
         "hidden": false,
         "locked": false,
         "points": 5
        }
       ],
       "scored": true,
       "setup": "",
       "teardown": "",
       "type": "doctest"
      }
     ]
    }
   }
  }
 },
 "nbformat": 4,
 "nbformat_minor": 5
}
