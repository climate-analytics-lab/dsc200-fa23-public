{
 "cells": [
  {
   "cell_type": "code",
   "execution_count": 173,
   "id": "fd12097e",
   "metadata": {
    "deletable": false,
    "editable": false
   },
   "outputs": [],
   "source": [
    "# Initialize Otter\n",
    "import otter\n",
    "grader = otter.Notebook(\"assignment02.ipynb\")"
   ]
  },
  {
   "cell_type": "markdown",
   "id": "3b1e91f5",
   "metadata": {},
   "source": [
    "## Assignment 2"
   ]
  },
  {
   "cell_type": "markdown",
   "id": "d1c14ba5",
   "metadata": {},
   "source": [
    "### Do not change the code that has been provided to you. You can add code but do not change/remove any components provided by us."
   ]
  },
  {
   "cell_type": "code",
   "execution_count": 174,
   "id": "1c94b7b3",
   "metadata": {},
   "outputs": [],
   "source": [
    "import numpy as np\n",
    "import pandas as pd"
   ]
  },
  {
   "cell_type": "code",
   "execution_count": 184,
   "id": "cee464b4",
   "metadata": {
    "scrolled": true
   },
   "outputs": [
    {
     "data": {
      "text/html": [
       "<div>\n",
       "<style scoped>\n",
       "    .dataframe tbody tr th:only-of-type {\n",
       "        vertical-align: middle;\n",
       "    }\n",
       "\n",
       "    .dataframe tbody tr th {\n",
       "        vertical-align: top;\n",
       "    }\n",
       "\n",
       "    .dataframe thead th {\n",
       "        text-align: right;\n",
       "    }\n",
       "</style>\n",
       "<table border=\"1\" class=\"dataframe\">\n",
       "  <thead>\n",
       "    <tr style=\"text-align: right;\">\n",
       "      <th></th>\n",
       "      <th>ID</th>\n",
       "      <th>Region</th>\n",
       "      <th>Shipment</th>\n",
       "      <th>Customer_care_calls</th>\n",
       "      <th>Rating</th>\n",
       "      <th>Cost</th>\n",
       "      <th>Priors</th>\n",
       "      <th>Product_importance</th>\n",
       "      <th>Gender</th>\n",
       "      <th>Discount</th>\n",
       "      <th>Weight</th>\n",
       "      <th>Shipment Delivered (1/0)</th>\n",
       "    </tr>\n",
       "  </thead>\n",
       "  <tbody>\n",
       "    <tr>\n",
       "      <th>0</th>\n",
       "      <td>1</td>\n",
       "      <td>D</td>\n",
       "      <td>Flight</td>\n",
       "      <td>4</td>\n",
       "      <td>2.0</td>\n",
       "      <td>177</td>\n",
       "      <td>3</td>\n",
       "      <td>low</td>\n",
       "      <td>F</td>\n",
       "      <td>44.0</td>\n",
       "      <td>1233.0</td>\n",
       "      <td>1.0</td>\n",
       "    </tr>\n",
       "    <tr>\n",
       "      <th>1</th>\n",
       "      <td>2</td>\n",
       "      <td>F</td>\n",
       "      <td>Flight</td>\n",
       "      <td>4</td>\n",
       "      <td>5.0</td>\n",
       "      <td>216</td>\n",
       "      <td>2</td>\n",
       "      <td>low</td>\n",
       "      <td>M</td>\n",
       "      <td>59.0</td>\n",
       "      <td>3088.0</td>\n",
       "      <td>1.0</td>\n",
       "    </tr>\n",
       "    <tr>\n",
       "      <th>2</th>\n",
       "      <td>3</td>\n",
       "      <td>A</td>\n",
       "      <td>Flight</td>\n",
       "      <td>2</td>\n",
       "      <td>2.0</td>\n",
       "      <td>183</td>\n",
       "      <td>4</td>\n",
       "      <td>low</td>\n",
       "      <td>M</td>\n",
       "      <td>48.0</td>\n",
       "      <td>3374.0</td>\n",
       "      <td>1.0</td>\n",
       "    </tr>\n",
       "    <tr>\n",
       "      <th>3</th>\n",
       "      <td>4</td>\n",
       "      <td>B</td>\n",
       "      <td>Flight</td>\n",
       "      <td>3</td>\n",
       "      <td>3.0</td>\n",
       "      <td>176</td>\n",
       "      <td>4</td>\n",
       "      <td>medium</td>\n",
       "      <td>M</td>\n",
       "      <td>10.0</td>\n",
       "      <td>1177.0</td>\n",
       "      <td>1.0</td>\n",
       "    </tr>\n",
       "    <tr>\n",
       "      <th>4</th>\n",
       "      <td>5</td>\n",
       "      <td>C</td>\n",
       "      <td>Flight</td>\n",
       "      <td>2</td>\n",
       "      <td>2.0</td>\n",
       "      <td>184</td>\n",
       "      <td>3</td>\n",
       "      <td>medium</td>\n",
       "      <td>F</td>\n",
       "      <td>46.0</td>\n",
       "      <td>2484.0</td>\n",
       "      <td>1.0</td>\n",
       "    </tr>\n",
       "  </tbody>\n",
       "</table>\n",
       "</div>"
      ],
      "text/plain": [
       "   ID Region Shipment  Customer_care_calls  Rating  Cost  Priors  \\\n",
       "0   1      D   Flight                    4     2.0   177       3   \n",
       "1   2      F   Flight                    4     5.0   216       2   \n",
       "2   3      A   Flight                    2     2.0   183       4   \n",
       "3   4      B   Flight                    3     3.0   176       4   \n",
       "4   5      C   Flight                    2     2.0   184       3   \n",
       "\n",
       "  Product_importance Gender  Discount  Weight  Shipment Delivered (1/0)  \n",
       "0                low      F      44.0  1233.0                       1.0  \n",
       "1                low      M      59.0  3088.0                       1.0  \n",
       "2                low      M      48.0  3374.0                       1.0  \n",
       "3             medium      M      10.0  1177.0                       1.0  \n",
       "4             medium      F      46.0  2484.0                       1.0  "
      ]
     },
     "execution_count": 184,
     "metadata": {},
     "output_type": "execute_result"
    }
   ],
   "source": [
    "data = pd.read_csv('./data.csv')\n",
    "\n",
    "# The head() function is used to get the first 5 rows.\n",
    "data.head()\n",
    "#data.count()\n",
    "#print(data.to_string())\n",
    "#print(data['Weight'])"
   ]
  },
  {
   "cell_type": "markdown",
   "id": "abcfd55d",
   "metadata": {},
   "source": [
    "**Question 1:** Write a function `data_preprocessing` that returns a preprocessed data based on the rules given below.<br>"
   ]
  },
  {
   "cell_type": "markdown",
   "id": "3ffbe4fe",
   "metadata": {},
   "source": [
    "### You need to clean the data to prepare it for the next steps: Follow the following steps.\n",
    "<ul>\n",
    "    <li>Shipment column can only have three types : {'Flight', 'Road', 'Ship'}. Any row that does not have the given shipment type, should be removed.</li>\n",
    "    <li>The Rating column can have the following values : {1.0,2.0,3.0,4.0,5.0}. Any row that has a rating value other than the given values, should be replaced by the average value of the rating column</li>\n",
    "    <li>The Weight column has numeric values. Any row that has a weight value other than a valid numeric value, should be replaced by the average value of the weight column</li>\n",
    "    <li>The Discount column can have numeric values in the range (0 to 80). Any row that has a discount value other than a valid value, should be replaced by the average value of the discount column</li>\n",
    "    <li>Any row that has the Shipment Delivered (1/0) value other than 1 or 0 should be removed.</li>\n",
    "</ul>\n",
    "\n"
   ]
  },
  {
   "cell_type": "code",
   "execution_count": 185,
   "id": "4d0acb2c",
   "metadata": {
    "tags": []
   },
   "outputs": [],
   "source": [
    "def data_preprocessing(data):\n",
    "    #1 Shipment column if data is not valid\n",
    "    for x in data.index:  \n",
    "        if ((data.loc[x, 'Shipment'] != 'Flight')\n",
    "        and (data.loc[x, 'Shipment'] != 'Road') \n",
    "        and (data.loc[x, 'Shipment'] != 'Ship')):\n",
    "            data.drop(x, inplace = True)\n",
    "            data.reset_index\n",
    "        \n",
    "    #2 Rating column\n",
    "    ratingMean = data['Rating'].mean()\n",
    "    for x in data.index:\n",
    "        if ((data.loc[x, 'Rating'] != 1.0)\n",
    "        and (data.loc[x, 'Rating'] != 2.0)\n",
    "        and (data.loc[x, 'Rating'] != 3.0)\n",
    "        and (data.loc[x, 'Rating'] != 4.0)\n",
    "        and (data.loc[x, 'Rating'] != 5.0)):\n",
    "            data.loc[x, 'Rating'] = ratingMean\n",
    "    \n",
    "    #3 Check numeric\n",
    "    weightMean = data['Weight'].mean()\n",
    "    for x in data.index:\n",
    "        if (data.loc[x, 'Weight'] > 0):\n",
    "            pass\n",
    "        else:\n",
    "            data.loc[x, 'Weight'] = weightMean\n",
    "    \n",
    "    #4 Discount column\n",
    "    discountMean = data['Discount'].mean()\n",
    "    for x in data.index:\n",
    "        if ((data.loc[x, 'Discount'] >= 0) or (data.loc[x, 'Discount'] <= 80)):\n",
    "            pass\n",
    "        else:\n",
    "            data.loc[x, 'Discount'] = discountMean\n",
    "    \n",
    "    #5 Removed Shipment Delivered if it is not 1 or 0\n",
    "    for x in data.index:  \n",
    "        if ((data.loc[x, 'Shipment Delivered (1/0)'] != 0.0) \n",
    "        and (data.loc[x, 'Shipment Delivered (1/0)'] != 1.0)):\n",
    "            data.drop(x, inplace = True)\n",
    "            data.reset_index\n",
    "    \n",
    "    return data\n",
    "data = data_preprocessing(data)"
   ]
  },
  {
   "cell_type": "code",
   "execution_count": 186,
   "id": "755531c8",
   "metadata": {},
   "outputs": [
    {
     "data": {
      "text/plain": [
       "ID                          0\n",
       "Region                      0\n",
       "Shipment                    0\n",
       "Customer_care_calls         0\n",
       "Rating                      0\n",
       "Cost                        0\n",
       "Priors                      0\n",
       "Product_importance          0\n",
       "Gender                      0\n",
       "Discount                    0\n",
       "Weight                      0\n",
       "Shipment Delivered (1/0)    0\n",
       "dtype: int64"
      ]
     },
     "execution_count": 186,
     "metadata": {},
     "output_type": "execute_result"
    }
   ],
   "source": [
    "data.isnull().sum()"
   ]
  },
  {
   "cell_type": "code",
   "execution_count": 187,
   "id": "172412d0",
   "metadata": {
    "deletable": false,
    "editable": false
   },
   "outputs": [
    {
     "data": {
      "text/html": [
       "<p><strong><pre style='display: inline;'>q1</pre></strong> passed!</p>"
      ],
      "text/plain": [
       "q1 results: All test cases passed!"
      ]
     },
     "execution_count": 187,
     "metadata": {},
     "output_type": "execute_result"
    }
   ],
   "source": [
    "grader.check(\"q1\")"
   ]
  },
  {
   "cell_type": "markdown",
   "id": "bf4931a7",
   "metadata": {},
   "source": [
    "<!-- BEGIN QUESTION -->\n",
    "\n",
    "**Question 2:** Write a function `data_analysis_matplotlib` that displays plots based on the requirements given below.<br>"
   ]
  },
  {
   "cell_type": "markdown",
   "id": "79b00b24",
   "metadata": {},
   "source": [
    "### Display plots based on the requirements given below.\n",
    "<ul>\n",
    "    <li>Display a plot that has two subplots, the first subplot should be a grouped bar chart between number of shipments delivered and Product_importance: groups(shipment delivered/ shipment not delivered), the second subplot should be a grouped bar chart between the number of shipments delivered and Region: groups(shipment delivered/ shipment not delivered) </li>\n",
    "</ul>\n",
    "The plot should look like this:<br>\n",
    "<img src='plot.png' width = \"800\" height=\"400\">\n",
    "Note : You might have to find out the different categories and range of columns in the data to come up with a more effective visualization.\n"
   ]
  },
  {
   "cell_type": "code",
   "execution_count": 179,
   "id": "b00a97af",
   "metadata": {},
   "outputs": [],
   "source": [
    "import matplotlib.pyplot as plt\n",
    "import numpy as np"
   ]
  },
  {
   "cell_type": "code",
   "execution_count": 180,
   "id": "89499f07",
   "metadata": {
    "tags": []
   },
   "outputs": [
    {
     "data": {
      "image/png": "[encoded data removed]",
      "text/plain": [
       "<Figure size 1152x576 with 2 Axes>"
      ]
     },
     "metadata": {
      "needs_background": "light"
     },
     "output_type": "display_data"
    }
   ],
   "source": [
    "def data_analysis_matplotlib(data):\n",
    "    plt.figure(figsize=(16,8))\n",
    "    \n",
    "    # My code starts here\n",
    "    \n",
    "    # Left subplot \n",
    "    lowBlue, mediumBlue, highBlue, lowOra, mediumOra, highOra = 0,0,0,0,0,0\n",
    "    for x in data.index:\n",
    "        if (data.loc[x, 'Shipment Delivered (1/0)'] == 0.0):\n",
    "            if (data.loc[x, 'Product_importance'] == 'low'): lowBlue+=1\n",
    "            elif (data.loc[x, 'Product_importance'] == 'medium'): mediumBlue+=1\n",
    "            elif (data.loc[x, 'Product_importance'] == 'high'): highBlue+=1\n",
    "        if (data.loc[x, 'Shipment Delivered (1/0)'] == 1.0):\n",
    "            if (data.loc[x, 'Product_importance'] == 'low'): lowOra+=1\n",
    "            elif (data.loc[x, 'Product_importance'] == 'medium'): mediumOra+=1\n",
    "            elif (data.loc[x, 'Product_importance'] == 'high'): highOra+=1\n",
    "    \n",
    "    plt.subplot(1,2,1)\n",
    "    name_list = ['low','medium','high']\n",
    "    blue0 = [lowBlue,mediumBlue,highBlue]\n",
    "    ora1 = [lowOra,mediumOra,highOra]\n",
    "    x =list(range(len(blue0)))\n",
    "    total_width, n = 0.8, 2\n",
    "    width = total_width / n\n",
    "\n",
    "    plt.bar(x, blue0, width=width, label='0.0',fc = 'y')\n",
    "    for i in range(len(x)):\n",
    "        x[i] = x[i] + width\n",
    "    plt.bar(x, ora1, width=width, label='1.0',tick_label = name_list,fc = 'r')\n",
    "    plt.xlabel('Product_importance')\n",
    "    plt.ylabel('count')\n",
    "    plt.legend(title='Shipment Delivered (1/0)')\n",
    "\n",
    "    # Right subplot \n",
    "\n",
    "    dBlue,fBlue,aBlue,bBlue,cBlue = 0,0,0,0,0\n",
    "    dOra,fOra,aOra,bOra,cOra = 0,0,0,0,0\n",
    "    for x in data.index:\n",
    "        if (data.loc[x, 'Shipment Delivered (1/0)'] == 0.0):\n",
    "            if (data.loc[x, 'Region'] == 'D'): dBlue+=1\n",
    "            elif (data.loc[x, 'Region'] == 'F'): fBlue+=1\n",
    "            elif (data.loc[x, 'Region'] == 'A'): aBlue+=1\n",
    "            elif (data.loc[x, 'Region'] == 'B'): bBlue+=1\n",
    "            elif (data.loc[x, 'Region'] == 'C'): cBlue+=1\n",
    "        if (data.loc[x, 'Shipment Delivered (1/0)'] == 1.0):\n",
    "            if (data.loc[x, 'Region'] == 'D'): dOra+=1\n",
    "            elif (data.loc[x, 'Region'] == 'F'): fOra+=1\n",
    "            elif (data.loc[x, 'Region'] == 'A'): aOra+=1\n",
    "            elif (data.loc[x, 'Region'] == 'B'): bOra+=1\n",
    "            elif (data.loc[x, 'Region'] == 'C'): cOra+=1\n",
    "                \n",
    "    plt.subplot(1,2,2)\n",
    "    name_list1 = ['D','F','A','B','C']\n",
    "    blue0Region = [dBlue, fBlue, aBlue, bBlue, cBlue]\n",
    "    ora1Region = [dOra, fOra, aOra, bOra, cOra]\n",
    "    x =list(range(len(blue0Region)))\n",
    "    total_width, n = 0.8, 2\n",
    "    width = total_width / n\n",
    "    \n",
    "    plt.bar(x, blue0Region, width=width, label='0.0',fc = 'y')\n",
    "    for i in range(len(x)):\n",
    "        x[i] = x[i] + width\n",
    "    plt.bar(x, ora1Region, width=width, label='1.0',tick_label = name_list1,fc = 'r')\n",
    "    plt.xlabel('Region')\n",
    "    plt.ylabel('count')\n",
    "    plt.legend(title='Shipment Delivered (1/0)')\n",
    "    \n",
    "    # My code ends here\n",
    "    plt.show()\n",
    "data_analysis_matplotlib(data)"
   ]
  },
  {
   "cell_type": "markdown",
   "id": "f5a060e0",
   "metadata": {},
   "source": [
    "<!-- END QUESTION -->\n",
    "\n",
    "**Question 3:** Write a function `one_hot_encoding` that encodes feature vector according to details given below.<br>"
   ]
  },
  {
   "cell_type": "markdown",
   "id": "35617c50",
   "metadata": {},
   "source": [
    "### One-hot Encoding data for machine learning.\n",
    "<ul>\n",
    "    <li>We need to create a feature vector (X) and label vector (y) that we will use in our Machine Learning Model.</li>\n",
    "    <li>In order to create a feature vector, we need to one-hot encode the categorical features - Region, Shipment, Product_importance, Gender</li>\n",
    "</ul>\n"
   ]
  },
  {
   "cell_type": "code",
   "execution_count": 181,
   "id": "ff07e012",
   "metadata": {
    "tags": []
   },
   "outputs": [
    {
     "data": {
      "text/html": [
       "<div>\n",
       "<style scoped>\n",
       "    .dataframe tbody tr th:only-of-type {\n",
       "        vertical-align: middle;\n",
       "    }\n",
       "\n",
       "    .dataframe tbody tr th {\n",
       "        vertical-align: top;\n",
       "    }\n",
       "\n",
       "    .dataframe thead th {\n",
       "        text-align: right;\n",
       "    }\n",
       "</style>\n",
       "<table border=\"1\" class=\"dataframe\">\n",
       "  <thead>\n",
       "    <tr style=\"text-align: right;\">\n",
       "      <th></th>\n",
       "      <th>ID</th>\n",
       "      <th>Region</th>\n",
       "      <th>Shipment</th>\n",
       "      <th>Customer_care_calls</th>\n",
       "      <th>Rating</th>\n",
       "      <th>Cost</th>\n",
       "      <th>Priors</th>\n",
       "      <th>Product_importance</th>\n",
       "      <th>Gender</th>\n",
       "      <th>Discount</th>\n",
       "      <th>Weight</th>\n",
       "      <th>Shipment Delivered (1/0)</th>\n",
       "    </tr>\n",
       "  </thead>\n",
       "  <tbody>\n",
       "    <tr>\n",
       "      <th>0</th>\n",
       "      <td>1</td>\n",
       "      <td>D</td>\n",
       "      <td>Flight</td>\n",
       "      <td>4</td>\n",
       "      <td>2.0</td>\n",
       "      <td>177</td>\n",
       "      <td>3</td>\n",
       "      <td>low</td>\n",
       "      <td>F</td>\n",
       "      <td>44.0</td>\n",
       "      <td>1233.0</td>\n",
       "      <td>1.0</td>\n",
       "    </tr>\n",
       "    <tr>\n",
       "      <th>1</th>\n",
       "      <td>2</td>\n",
       "      <td>F</td>\n",
       "      <td>Flight</td>\n",
       "      <td>4</td>\n",
       "      <td>5.0</td>\n",
       "      <td>216</td>\n",
       "      <td>2</td>\n",
       "      <td>low</td>\n",
       "      <td>M</td>\n",
       "      <td>59.0</td>\n",
       "      <td>3088.0</td>\n",
       "      <td>1.0</td>\n",
       "    </tr>\n",
       "    <tr>\n",
       "      <th>2</th>\n",
       "      <td>3</td>\n",
       "      <td>A</td>\n",
       "      <td>Flight</td>\n",
       "      <td>2</td>\n",
       "      <td>2.0</td>\n",
       "      <td>183</td>\n",
       "      <td>4</td>\n",
       "      <td>low</td>\n",
       "      <td>M</td>\n",
       "      <td>48.0</td>\n",
       "      <td>3374.0</td>\n",
       "      <td>1.0</td>\n",
       "    </tr>\n",
       "    <tr>\n",
       "      <th>3</th>\n",
       "      <td>4</td>\n",
       "      <td>B</td>\n",
       "      <td>Flight</td>\n",
       "      <td>3</td>\n",
       "      <td>3.0</td>\n",
       "      <td>176</td>\n",
       "      <td>4</td>\n",
       "      <td>medium</td>\n",
       "      <td>M</td>\n",
       "      <td>10.0</td>\n",
       "      <td>1177.0</td>\n",
       "      <td>1.0</td>\n",
       "    </tr>\n",
       "    <tr>\n",
       "      <th>4</th>\n",
       "      <td>5</td>\n",
       "      <td>C</td>\n",
       "      <td>Flight</td>\n",
       "      <td>2</td>\n",
       "      <td>2.0</td>\n",
       "      <td>184</td>\n",
       "      <td>3</td>\n",
       "      <td>medium</td>\n",
       "      <td>F</td>\n",
       "      <td>46.0</td>\n",
       "      <td>2484.0</td>\n",
       "      <td>1.0</td>\n",
       "    </tr>\n",
       "  </tbody>\n",
       "</table>\n",
       "</div>"
      ],
      "text/plain": [
       "   ID Region Shipment  Customer_care_calls  Rating  Cost  Priors  \\\n",
       "0   1      D   Flight                    4     2.0   177       3   \n",
       "1   2      F   Flight                    4     5.0   216       2   \n",
       "2   3      A   Flight                    2     2.0   183       4   \n",
       "3   4      B   Flight                    3     3.0   176       4   \n",
       "4   5      C   Flight                    2     2.0   184       3   \n",
       "\n",
       "  Product_importance Gender  Discount  Weight  Shipment Delivered (1/0)  \n",
       "0                low      F      44.0  1233.0                       1.0  \n",
       "1                low      M      59.0  3088.0                       1.0  \n",
       "2                low      M      48.0  3374.0                       1.0  \n",
       "3             medium      M      10.0  1177.0                       1.0  \n",
       "4             medium      F      46.0  2484.0                       1.0  "
      ]
     },
     "execution_count": 181,
     "metadata": {},
     "output_type": "execute_result"
    }
   ],
   "source": [
    "data.head()"
   ]
  },
  {
   "cell_type": "code",
   "execution_count": 211,
   "id": "ee5b747e",
   "metadata": {
    "tags": []
   },
   "outputs": [
    {
     "ename": "KeyError",
     "evalue": "'Gender'",
     "output_type": "error",
     "traceback": [
      "\u001b[0;31m---------------------------------------------------------------------------\u001b[0m",
      "\u001b[0;31mKeyError\u001b[0m                                  Traceback (most recent call last)",
      "\u001b[0;32m/tmp/ipykernel_162/61447445.py\u001b[0m in \u001b[0;36m<module>\u001b[0;34m\u001b[0m\n\u001b[1;32m     22\u001b[0m \u001b[0;34m\u001b[0m\u001b[0m\n\u001b[1;32m     23\u001b[0m     \u001b[0;32mreturn\u001b[0m \u001b[0mdata\u001b[0m\u001b[0;34m\u001b[0m\u001b[0;34m\u001b[0m\u001b[0m\n\u001b[0;32m---> 24\u001b[0;31m \u001b[0mone_hot_data\u001b[0m \u001b[0;34m=\u001b[0m \u001b[0mone_hot_encoding\u001b[0m\u001b[0;34m(\u001b[0m\u001b[0mdata\u001b[0m\u001b[0;34m)\u001b[0m\u001b[0;34m\u001b[0m\u001b[0;34m\u001b[0m\u001b[0m\n\u001b[0m\u001b[1;32m     25\u001b[0m \u001b[0mX\u001b[0m \u001b[0;34m=\u001b[0m \u001b[0mnp\u001b[0m\u001b[0;34m.\u001b[0m\u001b[0marray\u001b[0m\u001b[0;34m(\u001b[0m\u001b[0mone_hot_data\u001b[0m\u001b[0;34m.\u001b[0m\u001b[0mdrop\u001b[0m\u001b[0;34m(\u001b[0m\u001b[0;34m'Shipment Delivered (1/0)'\u001b[0m\u001b[0;34m,\u001b[0m \u001b[0maxis\u001b[0m\u001b[0;34m=\u001b[0m\u001b[0;36m1\u001b[0m\u001b[0;34m)\u001b[0m\u001b[0;34m)\u001b[0m\u001b[0;34m\u001b[0m\u001b[0;34m\u001b[0m\u001b[0m\n\u001b[1;32m     26\u001b[0m \u001b[0my\u001b[0m \u001b[0;34m=\u001b[0m \u001b[0mnp\u001b[0m\u001b[0;34m.\u001b[0m\u001b[0marray\u001b[0m\u001b[0;34m(\u001b[0m\u001b[0mone_hot_data\u001b[0m\u001b[0;34m[\u001b[0m\u001b[0;34m'Shipment Delivered (1/0)'\u001b[0m\u001b[0;34m]\u001b[0m\u001b[0;34m)\u001b[0m\u001b[0;34m\u001b[0m\u001b[0;34m\u001b[0m\u001b[0m\n",
      "\u001b[0;32m/tmp/ipykernel_162/61447445.py\u001b[0m in \u001b[0;36mone_hot_encoding\u001b[0;34m(data)\u001b[0m\n\u001b[1;32m      1\u001b[0m \u001b[0;32mdef\u001b[0m \u001b[0mone_hot_encoding\u001b[0m\u001b[0;34m(\u001b[0m\u001b[0mdata\u001b[0m\u001b[0;34m)\u001b[0m\u001b[0;34m:\u001b[0m\u001b[0;34m\u001b[0m\u001b[0;34m\u001b[0m\u001b[0m\n\u001b[0;32m----> 2\u001b[0;31m     \u001b[0mdata\u001b[0m\u001b[0;34m[\u001b[0m\u001b[0;34m'Gender'\u001b[0m\u001b[0;34m]\u001b[0m \u001b[0;34m=\u001b[0m \u001b[0mdata\u001b[0m\u001b[0;34m[\u001b[0m\u001b[0;34m'Gender'\u001b[0m\u001b[0;34m]\u001b[0m\u001b[0;34m.\u001b[0m\u001b[0mreplace\u001b[0m\u001b[0;34m(\u001b[0m\u001b[0mto_replace\u001b[0m \u001b[0;34m=\u001b[0m \u001b[0;34m\"F\"\u001b[0m\u001b[0;34m,\u001b[0m \u001b[0mvalue\u001b[0m \u001b[0;34m=\u001b[0m \u001b[0;34m\"Female\"\u001b[0m\u001b[0;34m)\u001b[0m\u001b[0;34m\u001b[0m\u001b[0;34m\u001b[0m\u001b[0m\n\u001b[0m\u001b[1;32m      3\u001b[0m     \u001b[0mdata\u001b[0m\u001b[0;34m[\u001b[0m\u001b[0;34m'Gender'\u001b[0m\u001b[0;34m]\u001b[0m \u001b[0;34m=\u001b[0m \u001b[0mdata\u001b[0m\u001b[0;34m[\u001b[0m\u001b[0;34m'Gender'\u001b[0m\u001b[0;34m]\u001b[0m\u001b[0;34m.\u001b[0m\u001b[0mreplace\u001b[0m\u001b[0;34m(\u001b[0m\u001b[0mto_replace\u001b[0m \u001b[0;34m=\u001b[0m \u001b[0;34m\"M\"\u001b[0m\u001b[0;34m,\u001b[0m \u001b[0mvalue\u001b[0m \u001b[0;34m=\u001b[0m \u001b[0;34m\"Male\"\u001b[0m\u001b[0;34m)\u001b[0m\u001b[0;34m\u001b[0m\u001b[0;34m\u001b[0m\u001b[0m\n\u001b[1;32m      4\u001b[0m \u001b[0;34m\u001b[0m\u001b[0m\n\u001b[1;32m      5\u001b[0m     \u001b[0mcategorical_feats\u001b[0m \u001b[0;34m=\u001b[0m \u001b[0;34m[\u001b[0m\u001b[0;34m'Region'\u001b[0m\u001b[0;34m,\u001b[0m\u001b[0;34m'Shipment'\u001b[0m\u001b[0;34m,\u001b[0m\u001b[0;34m'Product_importance'\u001b[0m\u001b[0;34m,\u001b[0m\u001b[0;34m'Gender'\u001b[0m\u001b[0;34m]\u001b[0m\u001b[0;34m\u001b[0m\u001b[0;34m\u001b[0m\u001b[0m\n",
      "\u001b[0;31mKeyError\u001b[0m: 'Gender'"
     ]
    }
   ],
   "source": [
    "def one_hot_encoding(data):\n",
    "    data['Gender'] = data['Gender'].replace(to_replace = \"F\", value = \"Female\")\n",
    "    data['Gender'] = data['Gender'].replace(to_replace = \"M\", value = \"Male\")\n",
    "    \n",
    "    categorical_feats = ['Region','Shipment','Product_importance','Gender']\n",
    "    \n",
    "    for x in categorical_feats:\n",
    "        data=one_hot_encoder(data,x,list(set(data[x])))\n",
    "        lengthOfInput = (list(set(data[x])))\n",
    "        collection = np.zeros(data.index, lengthOfInput.index)\n",
    "        copy = data[x]\n",
    "        data = data.drop(x, axis = 1)\n",
    "        for j in range(len(copy)):\n",
    "            collection[j, lengthOfInput.index(copy[i])] = 1.0\n",
    "        result = pd.concat([data, pd.DataFrame(collection, columns = lengthOfInput)], axis = 1)\n",
    "        reConstructDataFrame(result)\n",
    "    \n",
    "    data=pd.DataFrame(data,columns=['ID',\"Customer_care_calls\",\"Rating\", \n",
    "                                    \"Cost\",\"Priors\",\"Discount\",\"Weight\",'Shipment Delivered (1/0)','A','B','C','D','F','Flight', 'Road','Ship', \n",
    "                                    'high','low','medium','Female','Male'])\n",
    "    #list(one_hot_data.columns) == ['ID', 'Customer_care_calls', 'Rating', 'Cost', 'Priors', 'Discount', 'Weight', 'Shipment Delivered (1/0)', 'A', 'B', 'C', 'D', 'F', 'Flight', 'Road', 'Ship', 'high', 'low', 'medium', 'Female', 'Male']\n",
    "    \n",
    "    return data\n",
    "one_hot_data = one_hot_encoding(data)\n",
    "X = np.array(one_hot_data.drop('Shipment Delivered (1/0)', axis=1))\n",
    "y = np.array(one_hot_data['Shipment Delivered (1/0)'])"
   ]
  },
  {
   "cell_type": "code",
   "execution_count": 212,
   "id": "d366adf1",
   "metadata": {
    "deletable": false,
    "editable": false
   },
   "outputs": [
    {
     "data": {
      "text/html": [
       "<p><strong style='color: red;'><pre style='display: inline;'>q3</pre> results:</strong></p><p><strong><pre style='display: inline;'>q3 - 1</pre> result:</strong></p><pre>    Trying:\n",
       "        X.shape == (10618, 20)\n",
       "    Expecting:\n",
       "        True\n",
       "    **********************************************************************\n",
       "    Line 1, in q3 0\n",
       "    Failed example:\n",
       "        X.shape == (10618, 20)\n",
       "    Expected:\n",
       "        True\n",
       "    Got:\n",
       "        False\n",
       "</pre><p><strong><pre style='display: inline;'>q3 - 2</pre> result:</strong></p><pre>    Test case passed!</pre><p><strong><pre style='display: inline;'>q3 - 3</pre> result:</strong></p><pre>    Trying:\n",
       "        arr = np.array([1.000e+00, 4.000e+00, 2.000e+00, 1.770e+02, 3.000e+00, 4.400e+01, 1.233e+03,0.000e+00, 0.000e+00, 0.000e+00, 1.000e+00, 0.000e+00, 1.000e+00, 0.000e+00, 0.000e+00, 0.000e+00, 1.000e+00, 0.000e+00, 1.000e+00, 0.000e+00])\n",
       "    Expecting nothing\n",
       "    ok\n",
       "    Trying:\n",
       "        base = X[0],\n",
       "    Expecting nothing\n",
       "    ok\n",
       "    Trying:\n",
       "        sum(sum(np.equal(arr,base))) == 20\n",
       "    Expecting:\n",
       "        True\n",
       "    **********************************************************************\n",
       "    Line 3, in q3 2\n",
       "    Failed example:\n",
       "        sum(sum(np.equal(arr,base))) == 20\n",
       "    Exception raised:\n",
       "        Traceback (most recent call last):\n",
       "          File \"/opt/conda/lib/python3.9/doctest.py\", line 1336, in __run\n",
       "            exec(compile(example.source, filename, \"single\",\n",
       "          File \"<doctest q3 2[2]>\", line 1, in <module>\n",
       "            sum(sum(np.equal(arr,base))) == 20\n",
       "        ValueError: operands could not be broadcast together with shapes (20,) (1,11) \n",
       "</pre>"
      ],
      "text/plain": [
       "q3 results:\n",
       "    q3 - 1 result:\n",
       "        Trying:\n",
       "            X.shape == (10618, 20)\n",
       "        Expecting:\n",
       "            True\n",
       "        **********************************************************************\n",
       "        Line 1, in q3 0\n",
       "        Failed example:\n",
       "            X.shape == (10618, 20)\n",
       "        Expected:\n",
       "            True\n",
       "        Got:\n",
       "            False\n",
       "\n",
       "    q3 - 2 result:\n",
       "        Test case passed!\n",
       "\n",
       "    q3 - 3 result:\n",
       "        Trying:\n",
       "            arr = np.array([1.000e+00, 4.000e+00, 2.000e+00, 1.770e+02, 3.000e+00, 4.400e+01, 1.233e+03,0.000e+00, 0.000e+00, 0.000e+00, 1.000e+00, 0.000e+00, 1.000e+00, 0.000e+00, 0.000e+00, 0.000e+00, 1.000e+00, 0.000e+00, 1.000e+00, 0.000e+00])\n",
       "        Expecting nothing\n",
       "        ok\n",
       "        Trying:\n",
       "            base = X[0],\n",
       "        Expecting nothing\n",
       "        ok\n",
       "        Trying:\n",
       "            sum(sum(np.equal(arr,base))) == 20\n",
       "        Expecting:\n",
       "            True\n",
       "        **********************************************************************\n",
       "        Line 3, in q3 2\n",
       "        Failed example:\n",
       "            sum(sum(np.equal(arr,base))) == 20\n",
       "        Exception raised:\n",
       "            Traceback (most recent call last):\n",
       "              File \"/opt/conda/lib/python3.9/doctest.py\", line 1336, in __run\n",
       "                exec(compile(example.source, filename, \"single\",\n",
       "              File \"<doctest q3 2[2]>\", line 1, in <module>\n",
       "                sum(sum(np.equal(arr,base))) == 20\n",
       "            ValueError: operands could not be broadcast together with shapes (20,) (1,11)"
      ]
     },
     "execution_count": 212,
     "metadata": {},
     "output_type": "execute_result"
    }
   ],
   "source": [
    "grader.check(\"q3\")"
   ]
  },
  {
   "cell_type": "code",
   "execution_count": 213,
   "id": "ec5e0bd5",
   "metadata": {},
   "outputs": [],
   "source": [
    "import json\n",
    "data={}\n",
    "data['X_train']=X[:9000].tolist()\n",
    "data['y_train']=y[:9000].tolist()\n",
    "data['X_test']=X[9000:].tolist()\n",
    "data['y_test']=y[9000:].tolist()"
   ]
  },
  {
   "cell_type": "code",
   "execution_count": 214,
   "id": "8b9c1b85",
   "metadata": {},
   "outputs": [],
   "source": [
    "with open(\"data.json\", \"w\") as outfile:\n",
    "    json.dump(data, outfile)"
   ]
  },
  {
   "cell_type": "code",
   "execution_count": 215,
   "id": "89e8bcae",
   "metadata": {},
   "outputs": [
    {
     "data": {
      "text/plain": [
       "\"\\nIf you get the error: ModuleNotFoundError: No module named 'sklearn',\\nuncomment the line below and run this cell, then restart the notebook and run all cells again\\n\""
      ]
     },
     "execution_count": 215,
     "metadata": {},
     "output_type": "execute_result"
    }
   ],
   "source": [
    "'''\n",
    "If you get the error: ModuleNotFoundError: No module named 'sklearn',\n",
    "uncomment the line below and run this cell, then restart the notebook and run all cells again\n",
    "'''\n",
    "# !pip install scikit-learn"
   ]
  },
  {
   "cell_type": "markdown",
   "id": "49f89a4b",
   "metadata": {},
   "source": [
    "**Question 4:**<br>"
   ]
  },
  {
   "cell_type": "markdown",
   "id": "d1471a60",
   "metadata": {},
   "source": [
    "### Run the machine learning model in model.py\n",
    "<ul>\n",
    "    <li>You have been provided a model.py file along with this notebook.</li>\n",
    "    <li>There are two calls stated below, one for training and other for testing. Both calls differ in the system arguements that are passed to the main function. </li>\n",
    "<li>If -train is passed as a system argument, then you need to run_model function as run_model(\"data.json\",train = True) \n",
    "    </li>\n",
    "<li>If -test is passed as a system argument, then you need to run_model function as run_model(\"data.json\",train = False) \n",
    "    </li>\n",
    "</ul>\n"
   ]
  },
  {
   "cell_type": "code",
   "execution_count": 196,
   "id": "d8f2cd96",
   "metadata": {
    "tags": []
   },
   "outputs": [
    {
     "name": "stdout",
     "output_type": "stream",
     "text": [
      "  File \"/home/xul027/model.py\", line 35\r\n",
      "    \r\n",
      "    ^\r\n",
      "IndentationError: expected an indented block\r\n"
     ]
    }
   ],
   "source": [
    "!python model.py -train"
   ]
  },
  {
   "cell_type": "code",
   "execution_count": 197,
   "id": "00beebbf",
   "metadata": {
    "tags": []
   },
   "outputs": [
    {
     "name": "stdout",
     "output_type": "stream",
     "text": [
      "  File \"/home/xul027/model.py\", line 35\r\n",
      "    \r\n",
      "    ^\r\n",
      "IndentationError: expected an indented block\r\n"
     ]
    }
   ],
   "source": [
    "!python model.py -test"
   ]
  },
  {
   "cell_type": "code",
   "execution_count": 198,
   "id": "f856a8e0",
   "metadata": {
    "tags": []
   },
   "outputs": [],
   "source": [
    "import json\n",
    "with open(\"output_train.json\", \"r\") as outfile:\n",
    "    output_train=json.load(outfile)\n",
    "with open(\"output_test.json\", \"r\") as outfile:\n",
    "    output_test=json.load(outfile)"
   ]
  },
  {
   "cell_type": "code",
   "execution_count": 199,
   "id": "7882614c",
   "metadata": {
    "deletable": false,
    "editable": false
   },
   "outputs": [
    {
     "data": {
      "text/html": [
       "<p><strong style='color: red;'><pre style='display: inline;'>q4</pre> results:</strong></p><p><strong><pre style='display: inline;'>q4 - 1</pre> result:</strong></p><pre>    Trying:\n",
       "        output_train['training_accuracy'] == 1.0\n",
       "    Expecting:\n",
       "        True\n",
       "    **********************************************************************\n",
       "    Line 1, in q4 0\n",
       "    Failed example:\n",
       "        output_train['training_accuracy'] == 1.0\n",
       "    Exception raised:\n",
       "        Traceback (most recent call last):\n",
       "          File \"/opt/conda/lib/python3.9/doctest.py\", line 1336, in __run\n",
       "            exec(compile(example.source, filename, \"single\",\n",
       "          File \"<doctest q4 0[0]>\", line 1, in <module>\n",
       "            output_train['training_accuracy'] == 1.0\n",
       "        KeyError: 'training_accuracy'\n",
       "</pre><p><strong><pre style='display: inline;'>q4 - 2</pre> result:</strong></p><pre>    Trying:\n",
       "        output_test['training_accuracy'] == 1.0 and round(output_test['testing_accuracy'],2) == 0.54\n",
       "    Expecting:\n",
       "        True\n",
       "    **********************************************************************\n",
       "    Line 1, in q4 1\n",
       "    Failed example:\n",
       "        output_test['training_accuracy'] == 1.0 and round(output_test['testing_accuracy'],2) == 0.54\n",
       "    Exception raised:\n",
       "        Traceback (most recent call last):\n",
       "          File \"/opt/conda/lib/python3.9/doctest.py\", line 1336, in __run\n",
       "            exec(compile(example.source, filename, \"single\",\n",
       "          File \"<doctest q4 1[0]>\", line 1, in <module>\n",
       "            output_test['training_accuracy'] == 1.0 and round(output_test['testing_accuracy'],2) == 0.54\n",
       "        KeyError: 'training_accuracy'\n",
       "</pre>"
      ],
      "text/plain": [
       "q4 results:\n",
       "    q4 - 1 result:\n",
       "        Trying:\n",
       "            output_train['training_accuracy'] == 1.0\n",
       "        Expecting:\n",
       "            True\n",
       "        **********************************************************************\n",
       "        Line 1, in q4 0\n",
       "        Failed example:\n",
       "            output_train['training_accuracy'] == 1.0\n",
       "        Exception raised:\n",
       "            Traceback (most recent call last):\n",
       "              File \"/opt/conda/lib/python3.9/doctest.py\", line 1336, in __run\n",
       "                exec(compile(example.source, filename, \"single\",\n",
       "              File \"<doctest q4 0[0]>\", line 1, in <module>\n",
       "                output_train['training_accuracy'] == 1.0\n",
       "            KeyError: 'training_accuracy'\n",
       "\n",
       "    q4 - 2 result:\n",
       "        Trying:\n",
       "            output_test['training_accuracy'] == 1.0 and round(output_test['testing_accuracy'],2) == 0.54\n",
       "        Expecting:\n",
       "            True\n",
       "        **********************************************************************\n",
       "        Line 1, in q4 1\n",
       "        Failed example:\n",
       "            output_test['training_accuracy'] == 1.0 and round(output_test['testing_accuracy'],2) == 0.54\n",
       "        Exception raised:\n",
       "            Traceback (most recent call last):\n",
       "              File \"/opt/conda/lib/python3.9/doctest.py\", line 1336, in __run\n",
       "                exec(compile(example.source, filename, \"single\",\n",
       "              File \"<doctest q4 1[0]>\", line 1, in <module>\n",
       "                output_test['training_accuracy'] == 1.0 and round(output_test['testing_accuracy'],2) == 0.54\n",
       "            KeyError: 'training_accuracy'"
      ]
     },
     "execution_count": 199,
     "metadata": {},
     "output_type": "execute_result"
    }
   ],
   "source": [
    "grader.check(\"q4\")"
   ]
  },
  {
   "cell_type": "markdown",
   "id": "e7eb113c",
   "metadata": {},
   "source": [
    "**Question 5:**<br>"
   ]
  },
  {
   "cell_type": "markdown",
   "id": "189c90d8",
   "metadata": {},
   "source": [
    "### Regex\n",
    "<ul>\n",
    "    <li>Complete the functions given below to provide regex functionality</li>\n",
    "</ul>\n"
   ]
  },
  {
   "cell_type": "code",
   "execution_count": null,
   "id": "774cd46a",
   "metadata": {
    "tags": []
   },
   "outputs": [],
   "source": [
    "import re\n",
    "def regex1(string):\n",
    "    '''\n",
    "    Given an IP number as a string remove all leading zeros in the IP address\n",
    "    Ex: regex1(\"123.01.09.103\") = '123.1.9.103'\n",
    "    \n",
    "    '''\n",
    "    newIp = re.sub(r'\\b0+(\\d)', r'\\1', string)\n",
    "    return newIp\n",
    "regex1(\"123.01.09.103\")"
   ]
  },
  {
   "cell_type": "code",
   "execution_count": null,
   "id": "d6f57220",
   "metadata": {
    "tags": []
   },
   "outputs": [],
   "source": [
    "def regex2(string):\n",
    "    '''\n",
    "    Given an email return True if the email is valid, else return False\n",
    "    regex2('john.doe-gmail.com') = False\n",
    "    '''\n",
    "    emailRegex = r'\\b[A-Za-z0-9._%+-]+@[A-Za-z0-9.-]+\\.[A-Z|a-z]{2,}\\b'\n",
    "    if(re.fullmatch(emailRegex, string)):\n",
    "        return True\n",
    "    return False\n",
    "regex2('john.doe-gmail.com')"
   ]
  },
  {
   "cell_type": "code",
   "execution_count": null,
   "id": "d19bc21d",
   "metadata": {
    "deletable": false,
    "editable": false
   },
   "outputs": [],
   "source": [
    "grader.check(\"q5\")"
   ]
  },
  {
   "cell_type": "markdown",
   "id": "7b827e7d",
   "metadata": {},
   "source": [
    "### Submission Guidelines: \n",
    "#### 1. Save and run all the cells of this notebook.\n",
    "#### 2. All the assignments in this course will have two types of test cases, local test cases and hidden test cases. You will be able to test your work on local test cases by running the cell  with - grader.check_all() or grader.check(\"question number\")\n",
    "#### 3. Once you are happy with the output of grader.check_all(), you should save the following files in a zip to gradescope:  assignment02.ipynb, model.py, output_train.json, output_test.json, data.csv\n",
    "#### 4. You will be able to see the result of your work on hidden tests once the grades are released for a given assignment."
   ]
  },
  {
   "cell_type": "code",
   "execution_count": null,
   "id": "9ffc0e9d",
   "metadata": {},
   "outputs": [],
   "source": []
  },
  {
   "cell_type": "code",
   "execution_count": null,
   "id": "c15ca67a",
   "metadata": {},
   "outputs": [],
   "source": []
  },
  {
   "cell_type": "code",
   "execution_count": null,
   "id": "8f8e51e4",
   "metadata": {},
   "outputs": [],
   "source": []
  },
  {
   "cell_type": "code",
   "execution_count": null,
   "id": "c316df00",
   "metadata": {},
   "outputs": [],
   "source": []
  },
  {
   "cell_type": "markdown",
   "id": "3292bdb9",
   "metadata": {
    "deletable": false,
    "editable": false
   },
   "source": [
    "---\n",
    "\n",
    "To double-check your work, the cell below will rerun all of the autograder tests."
   ]
  },
  {
   "cell_type": "code",
   "execution_count": null,
   "id": "c95d55b9",
   "metadata": {
    "deletable": false,
    "editable": false
   },
   "outputs": [],
   "source": [
    "grader.check_all()"
   ]
  },
  {
   "cell_type": "code",
   "execution_count": null,
   "id": "fce527cc",
   "metadata": {},
   "outputs": [],
   "source": []
  },
  {
   "cell_type": "code",
   "execution_count": null,
   "id": "12b8e8ca",
   "metadata": {},
   "outputs": [],
   "source": []
  }
 ],
 "metadata": {
  "kernelspec": {
   "display_name": "Python 3 (ipykernel)",
   "language": "python",
   "name": "python3"
  },
  "language_info": {
   "codemirror_mode": {
    "name": "ipython",
    "version": 3
   },
   "file_extension": ".py",
   "mimetype": "text/x-python",
   "name": "python",
   "nbconvert_exporter": "python",
   "pygments_lexer": "ipython3",
   "version": "3.9.5"
  },
  "otter": {
   "OK_FORMAT": true,
   "assignment_name": "assignment02",
   "tests": {
    "q1": {
     "name": "q1",
     "points": 30,
     "suites": [
      {
       "cases": [
        {
         "code": ">>> data.isnull().sum().sum()==0\nTrue",
         "hidden": false,
         "locked": false,
         "points": 15
        }
       ],
       "scored": true,
       "setup": "",
       "teardown": "",
       "type": "doctest"
      }
     ]
    },
    "q3": {
     "name": "q3",
     "points": 20,
     "suites": [
      {
       "cases": [
        {
         "code": ">>> X.shape == (10618, 20)\nTrue",
         "hidden": false,
         "locked": false,
         "points": 5
        },
        {
         "code": ">>> y.shape == (10618,)\nTrue",
         "hidden": false,
         "locked": false,
         "points": 5
        },
        {
         "code": ">>> arr = np.array([1.000e+00, 4.000e+00, 2.000e+00, 1.770e+02, 3.000e+00, 4.400e+01, 1.233e+03,0.000e+00, 0.000e+00, 0.000e+00, 1.000e+00, 0.000e+00, 1.000e+00, 0.000e+00, 0.000e+00, 0.000e+00, 1.000e+00, 0.000e+00, 1.000e+00, 0.000e+00])\n>>> base = X[0],\n>>> sum(sum(np.equal(arr,base))) == 20\nTrue",
         "hidden": false,
         "locked": false,
         "points": 10
        }
       ],
       "scored": true,
       "setup": "",
       "teardown": "",
       "type": "doctest"
      }
     ]
    },
    "q4": {
     "name": "q4",
     "points": 10,
     "suites": [
      {
       "cases": [
        {
         "code": ">>> output_train['training_accuracy'] == 1.0\nTrue",
         "hidden": false,
         "locked": false,
         "points": 5
        },
        {
         "code": ">>> output_test['training_accuracy'] == 1.0 and round(output_test['testing_accuracy'],2) == 0.54\nTrue",
         "hidden": false,
         "locked": false,
         "points": 5
        }
       ],
       "scored": true,
       "setup": "",
       "teardown": "",
       "type": "doctest"
      }
     ]
    },
    "q5": {
     "name": "q5",
     "points": 10,
     "suites": [
      {
       "cases": [
        {
         "code": ">>> regex1(\"103.012.32.87\") == \"103.12.32.87\" and regex1(\"100.001.100.001\") == \"100.1.100.1\"\nTrue",
         "hidden": false,
         "locked": false,
         "points": 5
        },
        {
         "code": ">>> regex2('john.doe-gmail.com') == False and regex2('jack.fro@gmail.com') == True\nTrue",
         "hidden": false,
         "locked": false,
         "points": 5
        }
       ],
       "scored": true,
       "setup": "",
       "teardown": "",
       "type": "doctest"
      }
     ]
    }
   }
  }
 },
 "nbformat": 4,
 "nbformat_minor": 5
}
