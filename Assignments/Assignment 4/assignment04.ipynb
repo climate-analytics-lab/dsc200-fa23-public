{
 "cells": [
  {
   "cell_type": "code",
   "execution_count": null,
   "id": "67c218d8",
   "metadata": {
    "deletable": false,
    "editable": false
   },
   "outputs": [],
   "source": [
    "# Initialize Otter\n",
    "import otter\n",
    "grader = otter.Notebook(\"assignment04.ipynb\")"
   ]
  },
  {
   "cell_type": "markdown",
   "id": "7fa3e06d",
   "metadata": {},
   "source": [
    "## Assignment 4"
   ]
  },
  {
   "cell_type": "markdown",
   "id": "64f7d2e2",
   "metadata": {},
   "source": [
    "### Do not change the code that has been provided to you. You can add code but do not change/remove any components provided by us."
   ]
  },
  {
   "cell_type": "code",
   "execution_count": null,
   "id": "10e0e40d",
   "metadata": {},
   "outputs": [],
   "source": [
    "import numpy as np"
   ]
  },
  {
   "cell_type": "markdown",
   "id": "0193ead3",
   "metadata": {},
   "source": [
    "**Question 1:** Complete the Class `Graph` that provides functionality based on rules given below.<br>"
   ]
  },
  {
   "cell_type": "markdown",
   "id": "80bde3fe",
   "metadata": {},
   "source": [
    "### Graph\n",
    "<ul>\n",
    "    <li>Initialize a graph with an empty dictionary.</li>\n",
    "    <li>Implement class functions based on the comments given in them.</li>\n",
    "</ul>\n"
   ]
  },
  {
   "cell_type": "code",
   "execution_count": null,
   "id": "929bd9ea",
   "metadata": {
    "tags": []
   },
   "outputs": [],
   "source": [
    "class Graph:\n",
    "    def __init__(self):\n",
    "        '''\n",
    "        Initialize graph with empty dictionary\n",
    "        A graph will be contructed using a dictionary where a key is a node and its value is a list of nodes which are the child nodes of the key node\n",
    "        graph = {\n",
    "            key_node : [child_node_1, child_node_2, child_node_3]\n",
    "        }\n",
    "        '''\n",
    "        self.graph = None\n",
    "        ...\n",
    "    def display_graph(self):\n",
    "        print(self.graph)\n",
    "    def add_edge(self,parent_node, child_node):\n",
    "        '''\n",
    "        Adds a child node to the list of child nodes of the parent node\n",
    "        Ex: graph = {\n",
    "            3 : [2,4]\n",
    "        }\n",
    "        add_edge(3,5) -> graph = {\n",
    "            3 : [2,4,5]\n",
    "            5 : [3]\n",
    "        }\n",
    "        '''\n",
    "        ...\n",
    "    def dfs(self,source_node, destination_node):\n",
    "        '''\n",
    "        Traverse the graph using DFS and return all the paths from source_node to destination_node\n",
    "        '''\n",
    "        paths = []\n",
    "        ...\n",
    "        return paths\n",
    "    def bfs(self,source_node, destination_node):\n",
    "        '''\n",
    "        Traverse the graph using BFS and return all the paths from source_node to destination_node\n",
    "        '''\n",
    "        paths = []\n",
    "        ...\n",
    "        return paths\n"
   ]
  },
  {
   "cell_type": "code",
   "execution_count": null,
   "id": "6dbc80ba",
   "metadata": {
    "deletable": false,
    "editable": false
   },
   "outputs": [],
   "source": [
    "grader.check(\"q1\")"
   ]
  },
  {
   "cell_type": "markdown",
   "id": "9daa686b",
   "metadata": {},
   "source": [
    "**Question 2:** Foreign Exchange rate provider.<br>"
   ]
  },
  {
   "cell_type": "markdown",
   "id": "27563807",
   "metadata": {},
   "source": [
    "### Based on the the instructions given below design a Forex System.\n",
    "\n",
    "<ul>\n",
    "    <li>You are provided with a class Forex. You need to fill in the methods to make the Forex system function as required. </li>\n",
    "    <li>Each method has a set of comments which will tell you what is expected as an output of that method.\n",
    "    <li>You will need to maintain a graph in the Forex task to calculate the exchange rate. You are provided with reference dictionaries to calculate estimated exchange rate.</li>\n",
    "    <li>Given the complexity of this task, we will not have any hidden test case for this question.</li>\n",
    "</ul>\n",
    "\n",
    "\n",
    "Hint: We highly recommend using the Graph data structure and its methods we contructed in the previous question"
   ]
  },
  {
   "cell_type": "markdown",
   "id": "165d0f8b",
   "metadata": {},
   "source": [
    "### Notes on constructing the graph.  You need to contruct a bi-directional graph. Here are some tips on constructing the bidirectional graph.\n",
    "\n",
    "<ul>\n",
    "    <li>You need a map/dictionary to story edge values, for example given a key value pair 'USDCAD':1.33, USD and CAD will be the nodes in this case using which we will construct a graph.</li>\n",
    "    <li>Now coming to storing edge values, given the above key value pair, we can store two edge values, USD -> CAD = 1.33 and CAD -> USD = 1/1.33.</li>\n",
    "</ul>\n"
   ]
  },
  {
   "cell_type": "code",
   "execution_count": null,
   "id": "6377ed81",
   "metadata": {
    "tags": []
   },
   "outputs": [],
   "source": [
    "class Forex:\n",
    "    def __init__(self, reference_rates):\n",
    "        '''\n",
    "        Initialize a graph to handle incoming reference rates.\n",
    "        The format of reference_rates is given below:\n",
    "        reference_rates = {\n",
    "            'USDCAD':1.33,\n",
    "            'USDEUR':0.96,            \n",
    "        }\n",
    "        '''\n",
    "        self.graph = None\n",
    "        self.reference_rates = None\n",
    "        ...\n",
    "    def construct_graph(self):\n",
    "        '''\n",
    "        Construct a graph based on the reference rates provided in the constructor\n",
    "        \n",
    "        Ex: graph = {\n",
    "            'USD': ['CAD','EUR'],\n",
    "            'CAD': ['USD'],\n",
    "            ''\n",
    "        }\n",
    "        '''\n",
    "        \n",
    "        ...\n",
    "    def get_exchange_rate(self,source,destination):\n",
    "        '''\n",
    "        Return the exchange rate from source to destination with 2 floating points\n",
    "        \n",
    "        Ex: self.get_exchange_rate('CAD','EUR') = 0.72\n",
    "        \n",
    "        '''\n",
    "        ..."
   ]
  },
  {
   "cell_type": "code",
   "execution_count": null,
   "id": "2054ecfb",
   "metadata": {},
   "outputs": [],
   "source": [
    "'''\n",
    "Here is a small example so you understand the implementation\n",
    "How to handles edges 1.33 and 1/1.33\n",
    "'''\n",
    "reference_rates = {'USDCAD':1.33,'USDEUR':0.96}\n",
    "forex = Forex(reference_rates)\n",
    "forex.construct_graph()\n",
    "exchange_rate = forex.get_exchange_rate('CAD','EUR')\n",
    "# print(exchange_rate) #prints 0.72"
   ]
  },
  {
   "cell_type": "code",
   "execution_count": null,
   "id": "85720f68",
   "metadata": {
    "deletable": false,
    "editable": false
   },
   "outputs": [],
   "source": [
    "grader.check(\"q2\")"
   ]
  },
  {
   "cell_type": "markdown",
   "id": "bfda49e4",
   "metadata": {},
   "source": [
    "### Submission Guidelines: \n",
    "#### 1. Save and run all the cells of this notebook.\n",
    "#### 2. All the assignments in this course will have two types of test cases, local test cases and hidden test cases. You will be able to test your work on local test cases by running the cell  with - grader.check_all() or grader.check(\"question number\")\n",
    "#### 3. Once you are happy with the output of grader.check_all(), you should save the following files in a zip to gradescope:  assignment04.ipynb  (Make sure the name of the files is consistent when you upload it to gradescope)\n",
    "#### 4. You will be able to see the result of your work on hidden tests once the grades are released for a given assignment."
   ]
  },
  {
   "cell_type": "code",
   "execution_count": null,
   "id": "c3819915",
   "metadata": {},
   "outputs": [],
   "source": []
  },
  {
   "cell_type": "markdown",
   "id": "6a5686b9",
   "metadata": {
    "deletable": false,
    "editable": false
   },
   "source": [
    "---\n",
    "\n",
    "To double-check your work, the cell below will rerun all of the autograder tests."
   ]
  },
  {
   "cell_type": "code",
   "execution_count": null,
   "id": "c55b2724",
   "metadata": {
    "deletable": false,
    "editable": false
   },
   "outputs": [],
   "source": [
    "grader.check_all()"
   ]
  }
 ],
 "metadata": {
  "kernelspec": {
   "display_name": "Python 3 (ipykernel)",
   "language": "python",
   "name": "python3"
  },
  "language_info": {
   "codemirror_mode": {
    "name": "ipython",
    "version": 3
   },
   "file_extension": ".py",
   "mimetype": "text/x-python",
   "name": "python",
   "nbconvert_exporter": "python",
   "pygments_lexer": "ipython3",
   "version": "3.9.7"
  },
  "otter": {
   "OK_FORMAT": true,
   "assignment_name": "assignment04",
   "tests": {
    "q1": {
     "name": "q1",
     "points": 20,
     "suites": [
      {
       "cases": [
        {
         "code": ">>> graph = Graph()\n>>> graph.add_edge(1,2)\n>>> graph.add_edge(1,3)\n>>> graph.add_edge(2,3)\n>>> graph.add_edge(3,5)\n>>> graph.add_edge(2,5)\n>>> paths_dfs = graph.dfs(1,5)\n>>> # paths_dfs\n>>> [1,2,5] in paths_dfs and [1,3,5] in paths_dfs and [1,2,3,5] in paths_dfs\nTrue",
         "hidden": false,
         "locked": false,
         "points": 10
        },
        {
         "code": ">>> graph = Graph()\n>>> graph.add_edge('A','B')\n>>> graph.add_edge('A','D')\n>>> graph.add_edge('B','D')\n>>> graph.add_edge('D','E')\n>>> graph.add_edge('C','E')\n>>> graph.add_edge('B','C')\n>>> graph.add_edge('C','D')\n>>> \n>>> paths = graph.bfs('A','E')\n>>> ['A', 'D', 'E'] in paths and ['A', 'B', 'D', 'E'] in paths and  ['A', 'B', 'C', 'E'] in paths and ['A', 'B', 'C', 'D', 'E'] in paths\nTrue",
         "hidden": false,
         "locked": false,
         "points": 10
        }
       ],
       "scored": true,
       "setup": "",
       "teardown": "",
       "type": "doctest"
      }
     ]
    },
    "q2": {
     "name": "q2",
     "points": 30,
     "suites": [
      {
       "cases": [
        {
         "code": ">>> reference_rates = {'USDCAD':1.33,'USDEUR':0.96,'EURJPY':145.08, 'CADINR':61.26, 'AUDGBP':0.56}\n>>> forex1 = Forex(reference_rates)\n>>> forex1.construct_graph()\n>>> forex1.get_exchange_rate('INR','JPY') == 1.71 and forex1.get_exchange_rate('AUD','JPY') == -1\nTrue",
         "hidden": false,
         "locked": false,
         "points": 15
        },
        {
         "code": ">>> reference_rates = {'USDCAD':1.33,'USDEUR':0.96,'EURJPY':145.08, 'CADINR':61.26, 'EURGBP':0.87, 'CADJPY':104.98, 'GBPJPY':166.40}\n>>> forex2 = Forex(reference_rates)\n>>> forex2.construct_graph()\n>>> ans2_1 = forex2.get_exchange_rate('GBP','INR')\n>>> ans2_2 = forex2.get_exchange_rate('USD','JPY')\n>>> round(ans2_1,1) == 97.1 and round(ans2_2,1) ==  139.6\nTrue",
         "hidden": false,
         "locked": false,
         "points": 15
        }
       ],
       "scored": true,
       "setup": "",
       "teardown": "",
       "type": "doctest"
      }
     ]
    }
   }
  }
 },
 "nbformat": 4,
 "nbformat_minor": 5
}
