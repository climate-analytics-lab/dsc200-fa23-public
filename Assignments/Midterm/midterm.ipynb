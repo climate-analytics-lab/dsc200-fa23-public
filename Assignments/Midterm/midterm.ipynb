{
 "cells": [
  {
   "cell_type": "code",
   "execution_count": null,
   "id": "d07cd4be",
   "metadata": {
    "deletable": false,
    "editable": false
   },
   "outputs": [],
   "source": [
    "# Initialize Otter\n",
    "import otter\n",
    "grader = otter.Notebook(\"midterm.ipynb\")"
   ]
  },
  {
   "cell_type": "markdown",
   "id": "e6217318",
   "metadata": {},
   "source": [
    "## Midterm\n",
    "### You have 60 minutes to solve 4 questions given below. "
   ]
  },
  {
   "cell_type": "markdown",
   "id": "5a4f2808",
   "metadata": {},
   "source": [
    "### Do not change the code that has been provided to you. You can add code but do not change/remove any components provided by us."
   ]
  },
  {
   "cell_type": "code",
   "execution_count": null,
   "id": "f95af69b",
   "metadata": {},
   "outputs": [],
   "source": [
    "import numpy as np\n",
    "import pandas as pd"
   ]
  },
  {
   "cell_type": "markdown",
   "id": "edaa8342",
   "metadata": {},
   "source": [
    "**Question 1:** Complete the function `question1` based on the instructions given below. <br>"
   ]
  },
  {
   "cell_type": "markdown",
   "id": "98fc0ff3",
   "metadata": {},
   "source": [
    "### Given a numpy array, return the maximum element from each row in a list\n",
    "\n",
    "x=\n",
    "[[4 8 3]<br>\n",
    "  [2 9 7]<br>\n",
    "  [0 2 7]]<br>\n",
    "\n",
    "question1(x) = [8,9,7]"
   ]
  },
  {
   "cell_type": "code",
   "execution_count": null,
   "id": "c2738783",
   "metadata": {
    "tags": []
   },
   "outputs": [],
   "source": [
    "def question1(arr):\n",
    "    '''\n",
    "    1 local test case : 5 points\n",
    "    1 hidden test case : 5 points\n",
    "    '''\n",
    "    l=[]\n",
    "    ...\n",
    "    return l"
   ]
  },
  {
   "cell_type": "code",
   "execution_count": null,
   "id": "3ad83920",
   "metadata": {
    "deletable": false,
    "editable": false
   },
   "outputs": [],
   "source": [
    "grader.check(\"q1\")"
   ]
  },
  {
   "cell_type": "markdown",
   "id": "3c4026a5",
   "metadata": {},
   "source": [
    "**Question 2:** Complete the function `question2` based on the instructions given below. <br>"
   ]
  },
  {
   "cell_type": "markdown",
   "id": "f2ec9996",
   "metadata": {},
   "source": [
    "### Given an integer argument return factorial of the value. Hint: Use recursion.\n",
    "\n",
    "Note: The factorial function says to multiply all whole numbers from our chosen number down to 1.\n",
    "\n",
    "Examples:\n",
    "\n",
    "question4(4) = 4 × 3 × 2 × 1 = 24\n"
   ]
  },
  {
   "cell_type": "code",
   "execution_count": null,
   "id": "fa5f3927",
   "metadata": {
    "tags": []
   },
   "outputs": [],
   "source": [
    "def question2(num):\n",
    "    '''\n",
    "    1 local test case : 5 points\n",
    "    1 hidden test case : 5 points\n",
    "    '''\n",
    "    ans = 1\n",
    "    ...\n",
    "    return ans"
   ]
  },
  {
   "cell_type": "code",
   "execution_count": null,
   "id": "86e148f6",
   "metadata": {
    "deletable": false,
    "editable": false
   },
   "outputs": [],
   "source": [
    "grader.check(\"q2\")"
   ]
  },
  {
   "cell_type": "markdown",
   "id": "d83670db",
   "metadata": {},
   "source": [
    "**Question 3:** Complete the function `question3` based on the instructions given below.<br>"
   ]
  },
  {
   "cell_type": "markdown",
   "id": "d44bd6c8",
   "metadata": {},
   "source": [
    "### Apply the following instructions (in order) to an input two dimensional numpy array with 0s and 1s and return the output\n",
    "\n",
    "\n",
    "**\\<Operations to perform\\>**\n",
    "\n",
    "<ol>\n",
    "    <li> Reverse the odd rows.\n",
    "    <li> Once the odd rows are reversed, replace the first element of every column according to the following logic : If the column contains even number of 1's replace the first element of that column with a 0. If a column has odd number of 1's replace the first element of that column with a 1.<br>\n",
    "        Ex: column = [1, 0, 0, 1]<br>\n",
    "        numberOf1s(column) = 2; even, so we replace the first element of the column with a 0<br>\n",
    "        column = [0, 0, 0, 1]\n",
    "    <li> Replace the 0's in each column by the mean of the array.<br>\n",
    "        Ex. col = [1, 0, 0, 1]<br>\n",
    "        array_mean = 0.5; here the array_mean is the mean of the entire array.<br>\n",
    "        output = [1, 0.5, 0.5, 1]\n",
    "    <li> Multiply all the elements of the array with 255\n",
    "    <li> Return the transpose of the array\n",
    "    \n",
    "</ol>"
   ]
  },
  {
   "cell_type": "code",
   "execution_count": null,
   "id": "8bda7da5",
   "metadata": {
    "tags": []
   },
   "outputs": [],
   "source": [
    "def question3(arr):\n",
    "    '''\n",
    "    1 local test case : 15 points\n",
    "    1 hidden test case : 25 points\n",
    "    '''\n",
    "    ...\n",
    "    return arr\n"
   ]
  },
  {
   "cell_type": "code",
   "execution_count": null,
   "id": "38454fef",
   "metadata": {
    "deletable": false,
    "editable": false
   },
   "outputs": [],
   "source": [
    "grader.check(\"q3\")"
   ]
  },
  {
   "cell_type": "markdown",
   "id": "ae9639de",
   "metadata": {},
   "source": [
    "**Question 4:** Complete the function `question4` based on the instructions given below.<br>"
   ]
  },
  {
   "cell_type": "markdown",
   "id": "b9687a93",
   "metadata": {},
   "source": [
    "### Convert a given number to its Roman counter part in a pandas DataFrame.\n",
    "\n",
    "Input numbers range from 1 to 50 only, You are given these numbers in a column in a pandas dataframe. You need to create a new column in the SAME dataframe with column name <b>\"Roman\"</b> and list the corresponding Roman counterparts in that column. \n",
    "\n",
    "Roman numerals are represented by seven different symbols: I, V, X, and  L<br>\n",
    "Symbol:Value<br>\n",
    "I      :       1<br>\n",
    "V       :      5<br>\n",
    "X        :     10<br>\n",
    "L         :    50<br>\n",
    "For example, 2 is written as II in Roman numeral, just two one's added together. 12 is written as XII, which is simply X + II. The number 27 is written as XXVII, which is XX + V + II.<br>\n",
    "Roman numerals are usually written largest to smallest from left to right. However, the numeral for four is not IIII. Instead, the number four is written as IV. Because the one is before the five we subtract it making four. The same principle applies to the number nine, which is written as IX. There are six instances where subtraction is used:<br>\n",
    "I can be placed before V (5) and X (10) to make 4 and 9.<br>\n",
    "X can be placed before L (50) to make 40.<br>\n",
    "Given an integer in the range of 1 to 50 (both inclusive), convert it to a roman numeral.<br>\n",
    "### NOTE: If you need a Roman mapping to any numeric value, you can ask us and we will provide it to you. You need to use df.apply to create the new Roman column. We have provided you with a function that you can use with df.apply\n"
   ]
  },
  {
   "cell_type": "code",
   "execution_count": null,
   "id": "fe4cf813",
   "metadata": {
    "scrolled": false
   },
   "outputs": [],
   "source": [
    "'''\n",
    "This is an example of how the input will look like\n",
    "'''\n",
    "df_dict = {'Numeric':[4,12,11]}\n",
    "inputDataFrame = pd.DataFrame(df_dict)\n",
    "inputDataFrame\n"
   ]
  },
  {
   "cell_type": "code",
   "execution_count": null,
   "id": "a704bf45",
   "metadata": {},
   "outputs": [],
   "source": [
    "'''\n",
    "This is an example of how the expected output dataframe should look like.\n",
    "'''\n",
    "df_dict = {'Numeric':[4,12,11],'Roman':['IV','XII','XI']}\n",
    "outputDataFrame = pd.DataFrame(df_dict)\n",
    "outputDataFrame"
   ]
  },
  {
   "cell_type": "code",
   "execution_count": null,
   "id": "b8186f6d",
   "metadata": {
    "tags": []
   },
   "outputs": [],
   "source": [
    "def convertNumeric2Roman(numeric_value):\n",
    "    '''\n",
    "    We have provided this method to be used with df.apply\n",
    "    '''\n",
    "    roman_value=\"\"\n",
    "    ...\n",
    "    return roman_value\n",
    "def question4(dataFrame): \n",
    "    '''\n",
    "    1 local test case : 15 points\n",
    "    1 hidden test case : 25 points\n",
    "    '''\n",
    "    ...\n",
    "    return dataFrame\n",
    "question4(inputDataFrame)"
   ]
  },
  {
   "cell_type": "code",
   "execution_count": null,
   "id": "1acfc221",
   "metadata": {
    "deletable": false,
    "editable": false
   },
   "outputs": [],
   "source": [
    "grader.check(\"q4\")"
   ]
  },
  {
   "cell_type": "markdown",
   "id": "acbdf072",
   "metadata": {},
   "source": [
    "### Submission Guidelines: \n",
    "#### 1. Save and run all the cells of this notebook.\n",
    "#### 2. All the assignments in this course will have two types of test cases, local test cases and hidden test cases. You will be able to test your work on local test cases by running the cell  with - grader.check_all() or grader.check(\"question number\")\n",
    "#### 3. Once you are happy with the output of grader.check_all() and upload the notebook to gradescope\n",
    "#### 4. You will be able to see the result of your work on hidden tests once the grades are released for a given assignment."
   ]
  },
  {
   "cell_type": "code",
   "execution_count": null,
   "id": "7906def4",
   "metadata": {},
   "outputs": [],
   "source": []
  },
  {
   "cell_type": "markdown",
   "id": "bc31294f",
   "metadata": {
    "deletable": false,
    "editable": false
   },
   "source": [
    "---\n",
    "\n",
    "To double-check your work, the cell below will rerun all of the autograder tests."
   ]
  },
  {
   "cell_type": "code",
   "execution_count": null,
   "id": "848e6155",
   "metadata": {
    "deletable": false,
    "editable": false
   },
   "outputs": [],
   "source": [
    "grader.check_all()"
   ]
  }
 ],
 "metadata": {
  "kernelspec": {
   "display_name": "Python 3 (ipykernel)",
   "language": "python",
   "name": "python3"
  },
  "language_info": {
   "codemirror_mode": {
    "name": "ipython",
    "version": 3
   },
   "file_extension": ".py",
   "mimetype": "text/x-python",
   "name": "python",
   "nbconvert_exporter": "python",
   "pygments_lexer": "ipython3",
   "version": "3.9.7"
  },
  "otter": {
   "OK_FORMAT": true,
   "assignment_name": "midterm",
   "tests": {
    "q1": {
     "name": "q1",
     "points": 10,
     "suites": [
      {
       "cases": [
        {
         "code": ">>> question1(np.array([[3, 7, 8],[6, 8, 8],[9, 2, 6]])) == [8,8,9]\nTrue",
         "hidden": false,
         "locked": false,
         "points": 5
        }
       ],
       "scored": true,
       "setup": "",
       "teardown": "",
       "type": "doctest"
      }
     ]
    },
    "q2": {
     "name": "q2",
     "points": 10,
     "suites": [
      {
       "cases": [
        {
         "code": ">>> question2(5) == 120\nTrue",
         "hidden": false,
         "locked": false,
         "points": 5
        }
       ],
       "scored": true,
       "setup": "",
       "teardown": "",
       "type": "doctest"
      }
     ]
    },
    "q3": {
     "name": "q3",
     "points": 40,
     "suites": [
      {
       "cases": [
        {
         "code": ">>> x = np.array([[1, 0, 0],[0, 1, 1],[1, 0, 0],[1, 1, 0]])\n>>> flags = question3(x) == np.array([[255.  , 255.  , 255.  , 148.75],[148.75, 255.  , 148.75, 255.  ],[255.  , 148.75, 148.75, 255.  ]])\n>>> sum(sum(flags)) == 12\nTrue",
         "hidden": false,
         "locked": false,
         "points": 15
        }
       ],
       "scored": true,
       "setup": "",
       "teardown": "",
       "type": "doctest"
      }
     ]
    },
    "q4": {
     "name": "q4",
     "points": 40,
     "suites": [
      {
       "cases": [
        {
         "code": ">>> df_dict = {'Numeric':[4,9,14]}\n>>> inputDataFrame = pd.DataFrame(df_dict)\n>>> list(question4(inputDataFrame)['Roman']) == ['IV', 'IX', 'XIV']\nTrue",
         "hidden": false,
         "locked": false,
         "points": 15
        }
       ],
       "scored": true,
       "setup": "",
       "teardown": "",
       "type": "doctest"
      }
     ]
    }
   }
  }
 },
 "nbformat": 4,
 "nbformat_minor": 5
}
