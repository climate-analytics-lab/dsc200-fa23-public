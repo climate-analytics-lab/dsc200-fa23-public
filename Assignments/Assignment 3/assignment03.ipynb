{
 "cells": [
  {
   "cell_type": "code",
   "execution_count": null,
   "id": "f1600160",
   "metadata": {
    "deletable": false,
    "editable": false
   },
   "outputs": [],
   "source": [
    "# Initialize Otter\n",
    "import otter\n",
    "grader = otter.Notebook(\"assignment03.ipynb\")"
   ]
  },
  {
   "cell_type": "markdown",
   "id": "4dc48a8c",
   "metadata": {},
   "source": [
    "## Assignment 3"
   ]
  },
  {
   "cell_type": "markdown",
   "id": "29778e18",
   "metadata": {},
   "source": [
    "### Do not change the code that has been provided to you. You can add code but do not change/remove any components provided by us."
   ]
  },
  {
   "cell_type": "code",
   "execution_count": null,
   "id": "14e189ed",
   "metadata": {},
   "outputs": [],
   "source": [
    "import numpy as np"
   ]
  },
  {
   "cell_type": "markdown",
   "id": "f3fe9ef0",
   "metadata": {},
   "source": [
    "**Question 1:** Complete the Class `Stack` and Class `Queue` that provides functionality based on rules given below.<br>"
   ]
  },
  {
   "cell_type": "markdown",
   "id": "13ddff4d",
   "metadata": {},
   "source": [
    "### Stack\n",
    "<ul>\n",
    "    <li>Initialize stack with an empty list.</li>\n",
    "    <li>Implement class functions based on the comments given in them.</li>\n",
    "</ul>\n",
    "\n",
    "### Queue\n",
    "<ul>\n",
    "    <li>Initialize queue with an empty list.</li>\n",
    "    <li>Implement class functions based on the comments given in them.</li>\n",
    "</ul>\n",
    "\n"
   ]
  },
  {
   "cell_type": "code",
   "execution_count": null,
   "id": "652a326c",
   "metadata": {
    "tags": []
   },
   "outputs": [],
   "source": [
    "class Stack:\n",
    "    def __init__(self):\n",
    "        '''\n",
    "        Initialize stack with empty list\n",
    "        '''\n",
    "        self.stack = None\n",
    "        ...\n",
    "    def display(self):\n",
    "        print(self.stack)\n",
    "    def size(self):\n",
    "        '''\n",
    "        Returns the size of the stack\n",
    "        '''\n",
    "        ...\n",
    "    def push(self,value):\n",
    "        '''\n",
    "        Pushes value to the top of the stack\n",
    "        Ex: stack = [1,2,3,4]\n",
    "        push(5) -> stack = [5,1,2,3,4]\n",
    "        '''\n",
    "        ...\n",
    "    def pop(self):\n",
    "        '''\n",
    "        Pops value from the top of the stack\n",
    "        Ex: stack = [1,2,3,4]\n",
    "        pop() -> stack = [2,3,4]\n",
    "        \n",
    "        return the popped value\n",
    "        '''\n",
    "        top = None\n",
    "        ...\n",
    "        return top"
   ]
  },
  {
   "cell_type": "code",
   "execution_count": null,
   "id": "7ce4bd2e",
   "metadata": {
    "tags": []
   },
   "outputs": [],
   "source": [
    "class Queue:\n",
    "    def __init__(self):\n",
    "        '''\n",
    "        Initialize queue with empty list\n",
    "        '''\n",
    "        self.queue = None\n",
    "        ...\n",
    "    def display(self):\n",
    "        print(self.queue)\n",
    "    def size(self):\n",
    "        '''\n",
    "        Returns the size of the queue\n",
    "        '''\n",
    "        ...\n",
    "    def push(self,value):\n",
    "        '''\n",
    "        Pushes value to the back of the queue\n",
    "        Ex: queue = [1,2,3,4]\n",
    "        push(5) -> queue = [1,2,3,4,5]\n",
    "        '''\n",
    "        ...\n",
    "        return self.queue\n",
    "    def pop(self):\n",
    "        '''\n",
    "        Pops value from the front of the queue\n",
    "        Ex: queue = [1,2,3,4]\n",
    "        pop() -> queue = [2,3,4]\n",
    "        \n",
    "        return the popped value\n",
    "        '''\n",
    "        front = None\n",
    "        ...\n",
    "        return front"
   ]
  },
  {
   "cell_type": "code",
   "execution_count": null,
   "id": "9b0a2aaf",
   "metadata": {
    "deletable": false,
    "editable": false
   },
   "outputs": [],
   "source": [
    "grader.check(\"q1\")"
   ]
  },
  {
   "cell_type": "markdown",
   "id": "04f6b772",
   "metadata": {},
   "source": [
    "**Question 2:** Complete the Class `LinkedList` and Class `Tree` that provides functionality based on rules given below.<br>"
   ]
  },
  {
   "cell_type": "markdown",
   "id": "f184bfc4",
   "metadata": {},
   "source": [
    "### LinkedList\n",
    "<ul>\n",
    "    <li>Implement class functions based on the comments given in them.</li>\n",
    "</ul>\n",
    "\n",
    "### Tree\n",
    "<ul>\n",
    "    <li>Implement class functions based on the comments given in them.</li>\n",
    "</ul>\n",
    "\n"
   ]
  },
  {
   "cell_type": "code",
   "execution_count": null,
   "id": "3c02d5e5",
   "metadata": {
    "tags": []
   },
   "outputs": [],
   "source": [
    "'''\n",
    "These nodes will be instrumental in implementing LinkedList and Tree data structures.\n",
    "'''\n",
    "class LLNode:\n",
    "    def __init__(self,value):\n",
    "        self.val = value\n",
    "        self.next = None\n",
    "class TreeNode:\n",
    "    def __init__(self,value):\n",
    "        self.val = value\n",
    "        self.left = None\n",
    "        self.right = None"
   ]
  },
  {
   "cell_type": "code",
   "execution_count": null,
   "id": "dcfc4e03",
   "metadata": {
    "tags": []
   },
   "outputs": [],
   "source": [
    "class LL:\n",
    "    def __init__(self,val):\n",
    "        '''\n",
    "        Initialize the Linked List with a node with value : val\n",
    "        '''\n",
    "        self.head = None\n",
    "        ...\n",
    "    def print(self):\n",
    "        '''\n",
    "        Print the linked list from head to the last node\n",
    "        '''\n",
    "        ...\n",
    "    def get_list(self):\n",
    "        '''\n",
    "        Return List form of the Linked List\n",
    "        LL = 1->2->4->3->None\n",
    "        return [1,2,4,3]\n",
    "        '''\n",
    "        l=[]\n",
    "         ...\n",
    "        return l\n",
    "    def add(self,val):\n",
    "        '''\n",
    "        Add a LLNode to the end of the existing Linked List\n",
    "        Ex :\n",
    "        If the Linked list is at a state : 1->2->4->3->None\n",
    "        you have self.head (1) and a value (5)\n",
    "        You need to return the head of the LinkedList which is : 1->2->4->3->5->None\n",
    "        '''\n",
    "        ...\n",
    "        return self.head\n",
    "    def delete(self, value):\n",
    "        '''\n",
    "        Delete a LLNode with val = value in the Linked List\n",
    "        Ex :\n",
    "        If the Linked list is at a state : 1->2->4->3->None\n",
    "        you have self.head (1) and value (4)\n",
    "        You need to return the head of the LinkedList which is : 1->2->3->None\n",
    "        '''\n",
    "        ...\n",
    "        "
   ]
  },
  {
   "cell_type": "code",
   "execution_count": null,
   "id": "09521dc2",
   "metadata": {
    "tags": []
   },
   "outputs": [],
   "source": [
    "'''\n",
    "Note: In the following question, you will need queue to complete a few functions, use the queue we created previously in this assignment.\n",
    "'''\n",
    "class Tree:\n",
    "    def __init__(self):\n",
    "        self.root = None\n",
    "        self.inorder = []\n",
    "        self.preorder = []\n",
    "        self.postorder = []\n",
    "        self.levelorder = []\n",
    "    def insert_val(self,value):\n",
    "        '''\n",
    "        Insert a new TreeNode with val = value in the tree.\n",
    "        The idea is to traverse through the tree to find a node whose left child is empty, and make the new Tree Node the left child of this node.\n",
    "        If all the left childs are full, we find a node whose right child is empty, we make the new Tree node as the right child of this node.\n",
    "        '''\n",
    "        ...\n",
    "        \n",
    "    def height(self, node):\n",
    "        ...\n",
    "    def level_order(self):\n",
    "        '''\n",
    "                       1\n",
    "                    2     3\n",
    "                  4  5   6  7\n",
    "        levelOrder : [1,2,3,4,5,6,7]\n",
    "        \n",
    "        '''\n",
    "        ...\n",
    "    def inorder_traversal(self,root):\n",
    "        '''\n",
    "                       1\n",
    "                    2     3\n",
    "                  4  5   6  7\n",
    "        Inorder : [4,2,5,1,6,3,7]\n",
    "        algorithm:\n",
    "        inorder(left)\n",
    "        visit node\n",
    "        inorder(right)\n",
    "        '''\n",
    "        ...\n",
    "    def preorder_traversal(self,root):\n",
    "        '''\n",
    "                       1\n",
    "                    2     3\n",
    "                  4  5   6  7\n",
    "        preorder : [1,2,4,5,3,6,7]\n",
    "        algorithm:\n",
    "        visit node\n",
    "        preorder(left)\n",
    "        preorder(right)\n",
    "        '''\n",
    "        ...\n",
    "    def postorder_traversal(self,root):\n",
    "        '''\n",
    "                       1\n",
    "                    2     3\n",
    "                  4  5   6  7\n",
    "        postorder : [4, 5, 2, 6, 7, 3, 1]\n",
    "        algorithm:\n",
    "        postorder(left)\n",
    "        postorder(right)\n",
    "        visit node\n",
    "        '''\n",
    "        ...\n",
    "    "
   ]
  },
  {
   "cell_type": "code",
   "execution_count": null,
   "id": "f0473c7e",
   "metadata": {
    "deletable": false,
    "editable": false
   },
   "outputs": [],
   "source": [
    "grader.check(\"q2\")"
   ]
  },
  {
   "cell_type": "markdown",
   "id": "e40fc5bd",
   "metadata": {},
   "source": [
    "**Question 3:** Design a fast food chain ordering system.<br>"
   ]
  },
  {
   "cell_type": "markdown",
   "id": "30c4b572",
   "metadata": {},
   "source": [
    "### Based on the the instructions given below design a Fast Food chain ordering system.\n",
    "\n",
    "<ul>\n",
    "    <li>You are provided 4 classes: Food class, Drink class, Order class and OrderProcessor class. You need to fill in the methods to make the ordering system function as required. </li>\n",
    "    <li>Each method has a set of comments which will tell you what is expected as an output of that method.\n",
    "    <li>You will need to maintain a queue in the OrderProcessor task to optimize order times based on time taken to prepare the order. Use the Queue datastructure you constructed above for this operation. You are also provided with reference dictionaries to calculate estimated preparation time and estimated cost.</li>\n",
    "    <li>Given the complexity of this task, we will not have any hidden test case for this question.</li>\n",
    "</ul>\n",
    "\n",
    "\n",
    "Hint: We highly recommend using one of the data structure and its methods we contructed in the previous questions"
   ]
  },
  {
   "cell_type": "code",
   "execution_count": null,
   "id": "d096f150",
   "metadata": {
    "tags": []
   },
   "outputs": [],
   "source": [
    "'''\n",
    "We have provided OrderClass.py along with this notebook. You need to complete Order, Food and Drink class in OrderClass.py file.\n",
    "We will then import those classes here and use them in OrderProcessor.\n",
    "'''\n",
    "\n",
    "from OrderClass import Food,Drink,Order"
   ]
  },
  {
   "cell_type": "code",
   "execution_count": null,
   "id": "2b69efd3",
   "metadata": {
    "tags": []
   },
   "outputs": [],
   "source": [
    "class OrderProcessor:\n",
    "    def __init__(self):\n",
    "        '''\n",
    "        Initialize a queue to handle incoming orders. \n",
    "        Note: We will use self.time to track the amount of time elapsed.\n",
    "        '''\n",
    "        self.time = 0\n",
    "        self.queue = None\n",
    "        ...\n",
    "    def timeElapsed(self, time):\n",
    "        self.time = time+self.time\n",
    "\n",
    "    def addOrder(self,items):\n",
    "        '''\n",
    "        Given a list of items, create an order object.\n",
    "        Example of list of items:\n",
    "        [\n",
    "            {\n",
    "                'item_type':'Food',\n",
    "                'item_name':'Fried',\n",
    "                'item_size':2\n",
    "            },\n",
    "            {\n",
    "                'item_type':'Drink',\n",
    "                'item_name':'Coke',\n",
    "                'item_size':'small'\n",
    "            }\n",
    "        ]\n",
    "        Note: The order should have an order id based on the number of orders taken that day. That means that if the queue is empty, the order_id of the first order is 'order_1'.\n",
    "        If the queue is at this state :[Order(order_id = 'order_5'), Order(order_id = 'order_7'), Order(order_id = 'order_11')]. The order_id of the next order should be 'order_12',\n",
    "        assuming that the last order that was added had order_id = 'order_11'\n",
    "        Adds an order to the Queue based on the prep time of the order and the time it arrived (timestamp here refers to arrival_time)\n",
    "        Example. \n",
    "        Queue = [Order1(prep_time = 5, timestamp = 2), Order2(prep_time = 12, timestamp = 1), Order3(prep_time = 15, timestamp = 4)]\n",
    "        Now if we want to add this order to the queue: Order4(prep_time = 7, timestamp = 5), then the queue after adding the order should look like this:\n",
    "        Queue = [Order1(prep_time = 5, timestamp = 2), Order4(prep_time = 7, timestamp = 5), Order2(prep_time = 12, timestamp = 1), Order3(prep_time = 15, timestamp = 4)]\n",
    "        '''\n",
    "        ...\n",
    "    def displayQueue(self):\n",
    "        '''\n",
    "        return a list of order_ids of the orders in the queue as the status of the queue\n",
    "        Example.\n",
    "        Queue = [Order1(prep_time = 5, timestamp = 2), Order4(prep_time = 7, timestamp = 5), Order2(prep_time = 12, timestamp = 1), Order3(prep_time = 15, timestamp = 4)]\n",
    "        return [order_1, order_4, order_2, order_3]\n",
    "        '''\n",
    "        status = []\n",
    "        ...\n",
    "        return status\n",
    "    def deliverOrder(self):\n",
    "        '''\n",
    "        Deliver an order if it is ready, i.e. self.time > prep time + timestamp (arrival_time) for that order.\n",
    "        You need to return a list of lists that specify the following:\n",
    "        Example:\n",
    "        self.time = 12\n",
    "        Queue = [Order1(prep_time = 5, timestamp = 2), Order4(prep_time = 7, timestamp = 5), Order2(prep_time = 12, timestamp = 1), Order3(prep_time = 15, timestamp = 4)]\n",
    "        then you need to deliver Order1 and Order 4\n",
    "        return [\n",
    "        [order_id of Order1, total cost of Order1],\n",
    "        [order_id of Order4, total cost of Order4],\n",
    "        ]\n",
    "        '''\n",
    "        output_list = []\n",
    "        ...\n",
    "        return output_list"
   ]
  },
  {
   "cell_type": "code",
   "execution_count": null,
   "id": "710f0dd6",
   "metadata": {},
   "outputs": [],
   "source": [
    "'''\n",
    "Here is a small example so you understand the implementation\n",
    "'''\n",
    "orderProcessor = OrderProcessor()\n",
    "print(f'Queue: {orderProcessor.displayQueue()}')\n",
    "orderProcessor.timeElapsed(1)\n",
    "order_1 = [{'item_type':'Food','item_name':'Fries','item_size':2}, ## cost 9.99 * 2 = 19.98 \n",
    "           {'item_type':'Drink','item_name':'Coke','item_size':'small'}] ## cost 3.99\n",
    "orderProcessor.addOrder(order_1) # total prep time = 5(fries) + 5(fries) + 1 (coke) = 11\n",
    "print(f'Queue: {orderProcessor.displayQueue()}')\n",
    "orderProcessor.timeElapsed(3)\n",
    "order_2 = [{'item_type':'Food','item_name':'Slider','item_size':1}] ## cost 10.99\n",
    "orderProcessor.addOrder(order_2) # total prep time = 6\n",
    "print(f'Queue: {orderProcessor.displayQueue()}')\n",
    "orderProcessor.timeElapsed(2)\n",
    "order_3 = [{'item_type':'Drink','item_name':'Pepsi','item_size':'small'}] ## cost 3.99\n",
    "orderProcessor.addOrder(order_3) # total prep time = 1 (coke) = 1\n",
    "print(f'Queue: {orderProcessor.displayQueue()}')\n",
    "print(f'Time Elapsed: {orderProcessor.time}')\n",
    "orderProcessor.timeElapsed(2)\n",
    "print(f'Time Elapsed: {orderProcessor.time}')\n",
    "print(f'Delivery: {orderProcessor.deliverOrder()}')\n",
    "print(f'Queue: {orderProcessor.displayQueue()}')\n",
    "orderProcessor.timeElapsed(2)\n",
    "print(f'Time Elapsed: {orderProcessor.time}')\n",
    "print(f'Delivery: {orderProcessor.deliverOrder()}')\n",
    "print(f'Queue: {orderProcessor.displayQueue()}')\n",
    "orderProcessor.timeElapsed(2)\n",
    "print(f'Time Elapsed: {orderProcessor.time}')\n",
    "print(f'Delivery: {orderProcessor.deliverOrder()}')\n",
    "print(f'Queue: {orderProcessor.displayQueue()}')\n",
    "\n",
    "## Output:\n",
    "'''\n",
    "Queue: []\n",
    "Queue: ['order_1']\n",
    "Queue: ['order_2', 'order_1']\n",
    "Queue: ['order_3', 'order_2', 'order_1']\n",
    "Time Elapsed: 6\n",
    "Time Elapsed: 8\n",
    "Delivery: [['order_3', 3.99]]\n",
    "Queue: ['order_2', 'order_1']\n",
    "Time Elapsed: 10\n",
    "Delivery: [['order_2', 10.99]]\n",
    "Queue: ['order_1']\n",
    "Time Elapsed: 12\n",
    "Delivery: [['order_1', 23.97]]\n",
    "Queue: []\n",
    "'''"
   ]
  },
  {
   "cell_type": "code",
   "execution_count": null,
   "id": "a5310155",
   "metadata": {
    "deletable": false,
    "editable": false
   },
   "outputs": [],
   "source": [
    "grader.check(\"q3\")"
   ]
  },
  {
   "cell_type": "markdown",
   "id": "1174b3bc",
   "metadata": {},
   "source": [
    "### Submission Guidelines: \n",
    "#### 1. Save and run all the cells of this notebook.\n",
    "#### 2. All the assignments in this course will have two types of test cases, local test cases and hidden test cases. You will be able to test your work on local test cases by running the cell  with - grader.check_all() or grader.check(\"question number\")\n",
    "#### 3. Once you are happy with the output of grader.check_all(), you should save the following files in a zip to gradescope:  assignment03.ipynb, OrderClass.py  (Make sure the name of the files is consistent when you upload it to gradescope)\n",
    "#### 4. You will be able to see the result of your work on hidden tests once the grades are released for a given assignment."
   ]
  },
  {
   "cell_type": "markdown",
   "id": "021e36f7",
   "metadata": {
    "deletable": false,
    "editable": false
   },
   "source": [
    "---\n",
    "\n",
    "To double-check your work, the cell below will rerun all of the autograder tests."
   ]
  },
  {
   "cell_type": "code",
   "execution_count": null,
   "id": "250119cd",
   "metadata": {
    "deletable": false,
    "editable": false
   },
   "outputs": [],
   "source": [
    "grader.check_all()"
   ]
  }
 ],
 "metadata": {
  "kernelspec": {
   "display_name": "Python 3 (ipykernel)",
   "language": "python",
   "name": "python3"
  },
  "language_info": {
   "codemirror_mode": {
    "name": "ipython",
    "version": 3
   },
   "file_extension": ".py",
   "mimetype": "text/x-python",
   "name": "python",
   "nbconvert_exporter": "python",
   "pygments_lexer": "ipython3",
   "version": "3.9.7"
  },
  "otter": {
   "OK_FORMAT": true,
   "assignment_name": "assignment03",
   "tests": {
    "q1": {
     "name": "q1",
     "points": 20,
     "suites": [
      {
       "cases": [
        {
         "code": ">>> stack = Stack()\n>>> stack.push(2)\n>>> stack.push(3)\n>>> stack.push(4)\n>>> top=stack.pop()\n>>> top=stack.pop()\n>>> stack.push(2)\n>>> stack.stack == [2,2]\nTrue",
         "hidden": false,
         "locked": false,
         "points": 10
        },
        {
         "code": ">>> def test():\n...     queue = Queue()\n...     queue.push(2)\n...     queue.push(3)\n...     queue.push(4)\n...     front=queue.pop()\n...     front=queue.pop()\n...     queue.push(2)\n...     return queue\n>>> queue = test()\n>>> queue.queue == [4,2]\nTrue",
         "hidden": false,
         "locked": false,
         "points": 10
        }
       ],
       "scored": true,
       "setup": "",
       "teardown": "",
       "type": "doctest"
      }
     ]
    },
    "q2": {
     "name": "q2",
     "points": 20,
     "suites": [
      {
       "cases": [
        {
         "code": ">>> def LLTest():\n...     ll = LL(1)\n...     ll.add(2)\n...     ll.add(3)\n...     ll.add(4)\n...     ll.delete(4)\n...     ll1 = LL(1)\n...     ll1.delete(1)\n...     return ll,ll1\n>>> ll,ll1 = LLTest()\n>>> ll.get_list() == [1,2,3] and ll1.get_list() == []\nTrue",
         "hidden": false,
         "locked": false,
         "points": 10
        },
        {
         "code": ">>> def TreeTest():\n...     tree = Tree()\n...     tree.insert_val(1)\n...     tree.insert_val(2)\n...     tree.insert_val(3)\n...     tree.insert_val(4)\n...     tree.insert_val(5)\n...     tree.insert_val(6)\n...     tree.insert_val(7)\n...     tree.inorder_traversal(tree.root)\n...     tree.preorder_traversal(tree.root)\n...     tree.postorder_traversal(tree.root)\n...     tree.level_order()\n...     return tree\n>>> tree = TreeTest()\n>>> tree.inorder == [4, 2, 5, 1, 6, 3, 7] and tree.preorder == [1, 2, 4, 5, 3, 6, 7] and tree.postorder == [4, 5, 2, 6, 7, 3, 1] and tree.levelorder == [1, 2, 3, 4, 5, 6, 7]\nTrue",
         "hidden": false,
         "locked": false,
         "points": 10
        }
       ],
       "scored": true,
       "setup": "",
       "teardown": "",
       "type": "doctest"
      }
     ]
    },
    "q3": {
     "name": "q3",
     "points": 60,
     "suites": [
      {
       "cases": [
        {
         "code": ">>> orderProcessor = OrderProcessor()\n>>> orderProcessor.timeElapsed(1)\n>>> order_1 = [{'item_type':'Food','item_name':'Fries','item_size':2},\n...            {'item_type':'Drink','item_name':'Coke','item_size':'small'}]\n>>> orderProcessor.addOrder(order_1) \n>>> orderProcessor.timeElapsed(3)\n>>> order_2 = [{'item_type':'Food','item_name':'Slider','item_size':1}]\n>>> orderProcessor.addOrder(order_2) \n>>> disp1 = orderProcessor.displayQueue()\n>>> orderProcessor.timeElapsed(2)\n>>> order_3 = [{'item_type':'Drink','item_name':'Pepsi','item_size':'small'}] \n>>> orderProcessor.addOrder(order_3) \n>>> disp2 = orderProcessor.displayQueue()\n>>> orderProcessor.timeElapsed(2)\n>>> delivery1 = orderProcessor.deliverOrder()\n>>> orderProcessor.timeElapsed(2)\n>>> delivery2 = orderProcessor.deliverOrder()\n>>> orderProcessor.timeElapsed(2)\n>>> delivery3 = orderProcessor.deliverOrder()\n>>> disp1 == ['order_2', 'order_1'] and disp2 == ['order_3', 'order_2', 'order_1'] and delivery1 == [['order_3', 3.99]] and delivery2 == [['order_2', 10.99]] and delivery3 == [['order_1', 23.97]]\nTrue",
         "hidden": false,
         "locked": false,
         "points": 20
        },
        {
         "code": ">>> orderProcessor = OrderProcessor()\n>>> orderProcessor.timeElapsed(1)\n>>> order_1 = [{'item_type':'Food','item_name':'Fries','item_size':2}, \n...            {'item_type':'Drink','item_name':'Coke','item_size':'small'}] \n>>> orderProcessor.addOrder(order_1) \n>>> orderProcessor.timeElapsed(3)\n>>> order_2 = [{'item_type':'Food','item_name':'Slider','item_size':1}] \n>>> orderProcessor.addOrder(order_2)\n>>> orderProcessor.timeElapsed(2)\n>>> order_3 = [{'item_type':'Drink','item_name':'Pepsi','item_size':'small'}] \n>>> orderProcessor.addOrder(order_3)\n>>> orderProcessor.timeElapsed(2)\n>>> d1 = orderProcessor.deliverOrder()\n>>> orderProcessor.timeElapsed(4)\n>>> d2 = orderProcessor.deliverOrder()\n>>> d1 ==  [['order_3', 3.99]] and d2 == [['order_2', 10.99], ['order_1', 23.97]]\nTrue",
         "hidden": false,
         "locked": false,
         "points": 20
        },
        {
         "code": ">>> order = Order('order_1',2)\n>>> ans1 = order.addItem('Food','Hot Wings',2)\n>>> ans2 = order.addItem('Drink','Mojito','small')\n>>> ans3 = order.addItem('Drink','Coke','x-large')\n>>> ans1 == 'Item Unavailable' and ans2 == 'Item Unavailable' and ans3 == 'Size Unavailable' \nTrue",
         "hidden": false,
         "locked": false,
         "points": 20
        }
       ],
       "scored": true,
       "setup": "",
       "teardown": "",
       "type": "doctest"
      }
     ]
    }
   }
  }
 },
 "nbformat": 4,
 "nbformat_minor": 5
}
